{
  "nbformat": 4,
  "nbformat_minor": 0,
  "metadata": {
    "accelerator": "GPU",
    "colab": {
      "name": "dynamic_padding.ipynb",
      "provenance": [],
      "collapsed_sections": [],
      "toc_visible": true
    },
    "kernelspec": {
      "display_name": "Python 3",
      "name": "python3"
    },
    "widgets": {
      "application/vnd.jupyter.widget-state+json": {
        "beb0d43cb24e46ea853c00a56ebd7b45": {
          "model_module": "@jupyter-widgets/controls",
          "model_name": "HBoxModel",
          "state": {
            "_view_name": "HBoxView",
            "_dom_classes": [],
            "_model_name": "HBoxModel",
            "_view_module": "@jupyter-widgets/controls",
            "_model_module_version": "1.5.0",
            "_view_count": null,
            "_view_module_version": "1.5.0",
            "box_style": "",
            "layout": "IPY_MODEL_a791d9b8702946ac9d32a1ded022fefe",
            "_model_module": "@jupyter-widgets/controls",
            "children": [
              "IPY_MODEL_f98e4c4aae42425a89afa05f0c9892bc",
              "IPY_MODEL_1c5ff16989754b5aa3fe262007800777"
            ]
          }
        },
        "a791d9b8702946ac9d32a1ded022fefe": {
          "model_module": "@jupyter-widgets/base",
          "model_name": "LayoutModel",
          "state": {
            "_view_name": "LayoutView",
            "grid_template_rows": null,
            "right": null,
            "justify_content": null,
            "_view_module": "@jupyter-widgets/base",
            "overflow": null,
            "_model_module_version": "1.2.0",
            "_view_count": null,
            "flex_flow": null,
            "width": null,
            "min_width": null,
            "border": null,
            "align_items": null,
            "bottom": null,
            "_model_module": "@jupyter-widgets/base",
            "top": null,
            "grid_column": null,
            "overflow_y": null,
            "overflow_x": null,
            "grid_auto_flow": null,
            "grid_area": null,
            "grid_template_columns": null,
            "flex": null,
            "_model_name": "LayoutModel",
            "justify_items": null,
            "grid_row": null,
            "max_height": null,
            "align_content": null,
            "visibility": null,
            "align_self": null,
            "height": null,
            "min_height": null,
            "padding": null,
            "grid_auto_rows": null,
            "grid_gap": null,
            "max_width": null,
            "order": null,
            "_view_module_version": "1.2.0",
            "grid_template_areas": null,
            "object_position": null,
            "object_fit": null,
            "grid_auto_columns": null,
            "margin": null,
            "display": null,
            "left": null
          }
        },
        "f98e4c4aae42425a89afa05f0c9892bc": {
          "model_module": "@jupyter-widgets/controls",
          "model_name": "FloatProgressModel",
          "state": {
            "_view_name": "ProgressView",
            "style": "IPY_MODEL_f8d8d957ec6242fbb21ed2bba57bb533",
            "_dom_classes": [],
            "description": "Downloading: 100%",
            "_model_name": "FloatProgressModel",
            "bar_style": "success",
            "max": 267967963,
            "_view_module": "@jupyter-widgets/controls",
            "_model_module_version": "1.5.0",
            "value": 267967963,
            "_view_count": null,
            "_view_module_version": "1.5.0",
            "orientation": "horizontal",
            "min": 0,
            "description_tooltip": null,
            "_model_module": "@jupyter-widgets/controls",
            "layout": "IPY_MODEL_19b0fa542b5f4d51b050e4a15cedfe47"
          }
        },
        "1c5ff16989754b5aa3fe262007800777": {
          "model_module": "@jupyter-widgets/controls",
          "model_name": "HTMLModel",
          "state": {
            "_view_name": "HTMLView",
            "style": "IPY_MODEL_0f9f085a41a04ef7ac66229bb070cf4a",
            "_dom_classes": [],
            "description": "",
            "_model_name": "HTMLModel",
            "placeholder": "​",
            "_view_module": "@jupyter-widgets/controls",
            "_model_module_version": "1.5.0",
            "value": " 268M/268M [00:50&lt;00:00, 5.29MB/s]",
            "_view_count": null,
            "_view_module_version": "1.5.0",
            "description_tooltip": null,
            "_model_module": "@jupyter-widgets/controls",
            "layout": "IPY_MODEL_1b47df87b7df4a8481d062bcd7034833"
          }
        },
        "f8d8d957ec6242fbb21ed2bba57bb533": {
          "model_module": "@jupyter-widgets/controls",
          "model_name": "ProgressStyleModel",
          "state": {
            "_view_name": "StyleView",
            "_model_name": "ProgressStyleModel",
            "description_width": "initial",
            "_view_module": "@jupyter-widgets/base",
            "_model_module_version": "1.5.0",
            "_view_count": null,
            "_view_module_version": "1.2.0",
            "bar_color": null,
            "_model_module": "@jupyter-widgets/controls"
          }
        },
        "19b0fa542b5f4d51b050e4a15cedfe47": {
          "model_module": "@jupyter-widgets/base",
          "model_name": "LayoutModel",
          "state": {
            "_view_name": "LayoutView",
            "grid_template_rows": null,
            "right": null,
            "justify_content": null,
            "_view_module": "@jupyter-widgets/base",
            "overflow": null,
            "_model_module_version": "1.2.0",
            "_view_count": null,
            "flex_flow": null,
            "width": null,
            "min_width": null,
            "border": null,
            "align_items": null,
            "bottom": null,
            "_model_module": "@jupyter-widgets/base",
            "top": null,
            "grid_column": null,
            "overflow_y": null,
            "overflow_x": null,
            "grid_auto_flow": null,
            "grid_area": null,
            "grid_template_columns": null,
            "flex": null,
            "_model_name": "LayoutModel",
            "justify_items": null,
            "grid_row": null,
            "max_height": null,
            "align_content": null,
            "visibility": null,
            "align_self": null,
            "height": null,
            "min_height": null,
            "padding": null,
            "grid_auto_rows": null,
            "grid_gap": null,
            "max_width": null,
            "order": null,
            "_view_module_version": "1.2.0",
            "grid_template_areas": null,
            "object_position": null,
            "object_fit": null,
            "grid_auto_columns": null,
            "margin": null,
            "display": null,
            "left": null
          }
        },
        "0f9f085a41a04ef7ac66229bb070cf4a": {
          "model_module": "@jupyter-widgets/controls",
          "model_name": "DescriptionStyleModel",
          "state": {
            "_view_name": "StyleView",
            "_model_name": "DescriptionStyleModel",
            "description_width": "",
            "_view_module": "@jupyter-widgets/base",
            "_model_module_version": "1.5.0",
            "_view_count": null,
            "_view_module_version": "1.2.0",
            "_model_module": "@jupyter-widgets/controls"
          }
        },
        "1b47df87b7df4a8481d062bcd7034833": {
          "model_module": "@jupyter-widgets/base",
          "model_name": "LayoutModel",
          "state": {
            "_view_name": "LayoutView",
            "grid_template_rows": null,
            "right": null,
            "justify_content": null,
            "_view_module": "@jupyter-widgets/base",
            "overflow": null,
            "_model_module_version": "1.2.0",
            "_view_count": null,
            "flex_flow": null,
            "width": null,
            "min_width": null,
            "border": null,
            "align_items": null,
            "bottom": null,
            "_model_module": "@jupyter-widgets/base",
            "top": null,
            "grid_column": null,
            "overflow_y": null,
            "overflow_x": null,
            "grid_auto_flow": null,
            "grid_area": null,
            "grid_template_columns": null,
            "flex": null,
            "_model_name": "LayoutModel",
            "justify_items": null,
            "grid_row": null,
            "max_height": null,
            "align_content": null,
            "visibility": null,
            "align_self": null,
            "height": null,
            "min_height": null,
            "padding": null,
            "grid_auto_rows": null,
            "grid_gap": null,
            "max_width": null,
            "order": null,
            "_view_module_version": "1.2.0",
            "grid_template_areas": null,
            "object_position": null,
            "object_fit": null,
            "grid_auto_columns": null,
            "margin": null,
            "display": null,
            "left": null
          }
        },
        "2fae59881a504a28bf3e243aae7cd942": {
          "model_module": "@jupyter-widgets/controls",
          "model_name": "HBoxModel",
          "state": {
            "_view_name": "HBoxView",
            "_dom_classes": [],
            "_model_name": "HBoxModel",
            "_view_module": "@jupyter-widgets/controls",
            "_model_module_version": "1.5.0",
            "_view_count": null,
            "_view_module_version": "1.5.0",
            "box_style": "",
            "layout": "IPY_MODEL_4a7e3317ea82444ba340c36cca9e07ae",
            "_model_module": "@jupyter-widgets/controls",
            "children": [
              "IPY_MODEL_33925d166d414bd8a3bb01af93f25195",
              "IPY_MODEL_06c7572a4eb34eb989a05e1a7c30c037"
            ]
          }
        },
        "4a7e3317ea82444ba340c36cca9e07ae": {
          "model_module": "@jupyter-widgets/base",
          "model_name": "LayoutModel",
          "state": {
            "_view_name": "LayoutView",
            "grid_template_rows": null,
            "right": null,
            "justify_content": null,
            "_view_module": "@jupyter-widgets/base",
            "overflow": null,
            "_model_module_version": "1.2.0",
            "_view_count": null,
            "flex_flow": null,
            "width": null,
            "min_width": null,
            "border": null,
            "align_items": null,
            "bottom": null,
            "_model_module": "@jupyter-widgets/base",
            "top": null,
            "grid_column": null,
            "overflow_y": null,
            "overflow_x": null,
            "grid_auto_flow": null,
            "grid_area": null,
            "grid_template_columns": null,
            "flex": null,
            "_model_name": "LayoutModel",
            "justify_items": null,
            "grid_row": null,
            "max_height": null,
            "align_content": null,
            "visibility": null,
            "align_self": null,
            "height": null,
            "min_height": null,
            "padding": null,
            "grid_auto_rows": null,
            "grid_gap": null,
            "max_width": null,
            "order": null,
            "_view_module_version": "1.2.0",
            "grid_template_areas": null,
            "object_position": null,
            "object_fit": null,
            "grid_auto_columns": null,
            "margin": null,
            "display": null,
            "left": null
          }
        },
        "33925d166d414bd8a3bb01af93f25195": {
          "model_module": "@jupyter-widgets/controls",
          "model_name": "FloatProgressModel",
          "state": {
            "_view_name": "ProgressView",
            "style": "IPY_MODEL_51907cc16e584a1a9903549344272b31",
            "_dom_classes": [],
            "description": "100%",
            "_model_name": "FloatProgressModel",
            "bar_style": "success",
            "max": 196,
            "_view_module": "@jupyter-widgets/controls",
            "_model_module_version": "1.5.0",
            "value": 196,
            "_view_count": null,
            "_view_module_version": "1.5.0",
            "orientation": "horizontal",
            "min": 0,
            "description_tooltip": null,
            "_model_module": "@jupyter-widgets/controls",
            "layout": "IPY_MODEL_e012f5cd0e6745b88da9bb9d6541ab09"
          }
        },
        "06c7572a4eb34eb989a05e1a7c30c037": {
          "model_module": "@jupyter-widgets/controls",
          "model_name": "HTMLModel",
          "state": {
            "_view_name": "HTMLView",
            "style": "IPY_MODEL_6994e9986759403db325d2435256d72d",
            "_dom_classes": [],
            "description": "",
            "_model_name": "HTMLModel",
            "placeholder": "​",
            "_view_module": "@jupyter-widgets/controls",
            "_model_module_version": "1.5.0",
            "value": " 196/196 [01:44&lt;00:00,  1.88ba/s]",
            "_view_count": null,
            "_view_module_version": "1.5.0",
            "description_tooltip": null,
            "_model_module": "@jupyter-widgets/controls",
            "layout": "IPY_MODEL_1c8d1d22cd38414a829ce89b5289fe1e"
          }
        },
        "51907cc16e584a1a9903549344272b31": {
          "model_module": "@jupyter-widgets/controls",
          "model_name": "ProgressStyleModel",
          "state": {
            "_view_name": "StyleView",
            "_model_name": "ProgressStyleModel",
            "description_width": "initial",
            "_view_module": "@jupyter-widgets/base",
            "_model_module_version": "1.5.0",
            "_view_count": null,
            "_view_module_version": "1.2.0",
            "bar_color": null,
            "_model_module": "@jupyter-widgets/controls"
          }
        },
        "e012f5cd0e6745b88da9bb9d6541ab09": {
          "model_module": "@jupyter-widgets/base",
          "model_name": "LayoutModel",
          "state": {
            "_view_name": "LayoutView",
            "grid_template_rows": null,
            "right": null,
            "justify_content": null,
            "_view_module": "@jupyter-widgets/base",
            "overflow": null,
            "_model_module_version": "1.2.0",
            "_view_count": null,
            "flex_flow": null,
            "width": null,
            "min_width": null,
            "border": null,
            "align_items": null,
            "bottom": null,
            "_model_module": "@jupyter-widgets/base",
            "top": null,
            "grid_column": null,
            "overflow_y": null,
            "overflow_x": null,
            "grid_auto_flow": null,
            "grid_area": null,
            "grid_template_columns": null,
            "flex": null,
            "_model_name": "LayoutModel",
            "justify_items": null,
            "grid_row": null,
            "max_height": null,
            "align_content": null,
            "visibility": null,
            "align_self": null,
            "height": null,
            "min_height": null,
            "padding": null,
            "grid_auto_rows": null,
            "grid_gap": null,
            "max_width": null,
            "order": null,
            "_view_module_version": "1.2.0",
            "grid_template_areas": null,
            "object_position": null,
            "object_fit": null,
            "grid_auto_columns": null,
            "margin": null,
            "display": null,
            "left": null
          }
        },
        "6994e9986759403db325d2435256d72d": {
          "model_module": "@jupyter-widgets/controls",
          "model_name": "DescriptionStyleModel",
          "state": {
            "_view_name": "StyleView",
            "_model_name": "DescriptionStyleModel",
            "description_width": "",
            "_view_module": "@jupyter-widgets/base",
            "_model_module_version": "1.5.0",
            "_view_count": null,
            "_view_module_version": "1.2.0",
            "_model_module": "@jupyter-widgets/controls"
          }
        },
        "1c8d1d22cd38414a829ce89b5289fe1e": {
          "model_module": "@jupyter-widgets/base",
          "model_name": "LayoutModel",
          "state": {
            "_view_name": "LayoutView",
            "grid_template_rows": null,
            "right": null,
            "justify_content": null,
            "_view_module": "@jupyter-widgets/base",
            "overflow": null,
            "_model_module_version": "1.2.0",
            "_view_count": null,
            "flex_flow": null,
            "width": null,
            "min_width": null,
            "border": null,
            "align_items": null,
            "bottom": null,
            "_model_module": "@jupyter-widgets/base",
            "top": null,
            "grid_column": null,
            "overflow_y": null,
            "overflow_x": null,
            "grid_auto_flow": null,
            "grid_area": null,
            "grid_template_columns": null,
            "flex": null,
            "_model_name": "LayoutModel",
            "justify_items": null,
            "grid_row": null,
            "max_height": null,
            "align_content": null,
            "visibility": null,
            "align_self": null,
            "height": null,
            "min_height": null,
            "padding": null,
            "grid_auto_rows": null,
            "grid_gap": null,
            "max_width": null,
            "order": null,
            "_view_module_version": "1.2.0",
            "grid_template_areas": null,
            "object_position": null,
            "object_fit": null,
            "grid_auto_columns": null,
            "margin": null,
            "display": null,
            "left": null
          }
        },
        "332e2ca115434f74bee0a7de7f9b5ca7": {
          "model_module": "@jupyter-widgets/controls",
          "model_name": "HBoxModel",
          "state": {
            "_view_name": "HBoxView",
            "_dom_classes": [],
            "_model_name": "HBoxModel",
            "_view_module": "@jupyter-widgets/controls",
            "_model_module_version": "1.5.0",
            "_view_count": null,
            "_view_module_version": "1.5.0",
            "box_style": "",
            "layout": "IPY_MODEL_2d821fbe97334012b63dc6e60c66dd81",
            "_model_module": "@jupyter-widgets/controls",
            "children": [
              "IPY_MODEL_a27462a785c44fbb9ed02bcc56910189",
              "IPY_MODEL_8d2beb74f98544d391dec7c29d732b51"
            ]
          }
        },
        "2d821fbe97334012b63dc6e60c66dd81": {
          "model_module": "@jupyter-widgets/base",
          "model_name": "LayoutModel",
          "state": {
            "_view_name": "LayoutView",
            "grid_template_rows": null,
            "right": null,
            "justify_content": null,
            "_view_module": "@jupyter-widgets/base",
            "overflow": null,
            "_model_module_version": "1.2.0",
            "_view_count": null,
            "flex_flow": null,
            "width": null,
            "min_width": null,
            "border": null,
            "align_items": null,
            "bottom": null,
            "_model_module": "@jupyter-widgets/base",
            "top": null,
            "grid_column": null,
            "overflow_y": null,
            "overflow_x": null,
            "grid_auto_flow": null,
            "grid_area": null,
            "grid_template_columns": null,
            "flex": null,
            "_model_name": "LayoutModel",
            "justify_items": null,
            "grid_row": null,
            "max_height": null,
            "align_content": null,
            "visibility": null,
            "align_self": null,
            "height": null,
            "min_height": null,
            "padding": null,
            "grid_auto_rows": null,
            "grid_gap": null,
            "max_width": null,
            "order": null,
            "_view_module_version": "1.2.0",
            "grid_template_areas": null,
            "object_position": null,
            "object_fit": null,
            "grid_auto_columns": null,
            "margin": null,
            "display": null,
            "left": null
          }
        },
        "a27462a785c44fbb9ed02bcc56910189": {
          "model_module": "@jupyter-widgets/controls",
          "model_name": "FloatProgressModel",
          "state": {
            "_view_name": "ProgressView",
            "style": "IPY_MODEL_e89961ffe9124dec90623f978706eef8",
            "_dom_classes": [],
            "description": "100%",
            "_model_name": "FloatProgressModel",
            "bar_style": "success",
            "max": 196,
            "_view_module": "@jupyter-widgets/controls",
            "_model_module_version": "1.5.0",
            "value": 196,
            "_view_count": null,
            "_view_module_version": "1.5.0",
            "orientation": "horizontal",
            "min": 0,
            "description_tooltip": null,
            "_model_module": "@jupyter-widgets/controls",
            "layout": "IPY_MODEL_e8fece5c9125468c8605679d48baeeab"
          }
        },
        "8d2beb74f98544d391dec7c29d732b51": {
          "model_module": "@jupyter-widgets/controls",
          "model_name": "HTMLModel",
          "state": {
            "_view_name": "HTMLView",
            "style": "IPY_MODEL_1706325fc88643a083d3bb274a4fdaf8",
            "_dom_classes": [],
            "description": "",
            "_model_name": "HTMLModel",
            "placeholder": "​",
            "_view_module": "@jupyter-widgets/controls",
            "_model_module_version": "1.5.0",
            "value": " 196/196 [01:28&lt;00:00,  2.23ba/s]",
            "_view_count": null,
            "_view_module_version": "1.5.0",
            "description_tooltip": null,
            "_model_module": "@jupyter-widgets/controls",
            "layout": "IPY_MODEL_c6a5102e032244a3868db27e56b73ce1"
          }
        },
        "e89961ffe9124dec90623f978706eef8": {
          "model_module": "@jupyter-widgets/controls",
          "model_name": "ProgressStyleModel",
          "state": {
            "_view_name": "StyleView",
            "_model_name": "ProgressStyleModel",
            "description_width": "initial",
            "_view_module": "@jupyter-widgets/base",
            "_model_module_version": "1.5.0",
            "_view_count": null,
            "_view_module_version": "1.2.0",
            "bar_color": null,
            "_model_module": "@jupyter-widgets/controls"
          }
        },
        "e8fece5c9125468c8605679d48baeeab": {
          "model_module": "@jupyter-widgets/base",
          "model_name": "LayoutModel",
          "state": {
            "_view_name": "LayoutView",
            "grid_template_rows": null,
            "right": null,
            "justify_content": null,
            "_view_module": "@jupyter-widgets/base",
            "overflow": null,
            "_model_module_version": "1.2.0",
            "_view_count": null,
            "flex_flow": null,
            "width": null,
            "min_width": null,
            "border": null,
            "align_items": null,
            "bottom": null,
            "_model_module": "@jupyter-widgets/base",
            "top": null,
            "grid_column": null,
            "overflow_y": null,
            "overflow_x": null,
            "grid_auto_flow": null,
            "grid_area": null,
            "grid_template_columns": null,
            "flex": null,
            "_model_name": "LayoutModel",
            "justify_items": null,
            "grid_row": null,
            "max_height": null,
            "align_content": null,
            "visibility": null,
            "align_self": null,
            "height": null,
            "min_height": null,
            "padding": null,
            "grid_auto_rows": null,
            "grid_gap": null,
            "max_width": null,
            "order": null,
            "_view_module_version": "1.2.0",
            "grid_template_areas": null,
            "object_position": null,
            "object_fit": null,
            "grid_auto_columns": null,
            "margin": null,
            "display": null,
            "left": null
          }
        },
        "1706325fc88643a083d3bb274a4fdaf8": {
          "model_module": "@jupyter-widgets/controls",
          "model_name": "DescriptionStyleModel",
          "state": {
            "_view_name": "StyleView",
            "_model_name": "DescriptionStyleModel",
            "description_width": "",
            "_view_module": "@jupyter-widgets/base",
            "_model_module_version": "1.5.0",
            "_view_count": null,
            "_view_module_version": "1.2.0",
            "_model_module": "@jupyter-widgets/controls"
          }
        },
        "c6a5102e032244a3868db27e56b73ce1": {
          "model_module": "@jupyter-widgets/base",
          "model_name": "LayoutModel",
          "state": {
            "_view_name": "LayoutView",
            "grid_template_rows": null,
            "right": null,
            "justify_content": null,
            "_view_module": "@jupyter-widgets/base",
            "overflow": null,
            "_model_module_version": "1.2.0",
            "_view_count": null,
            "flex_flow": null,
            "width": null,
            "min_width": null,
            "border": null,
            "align_items": null,
            "bottom": null,
            "_model_module": "@jupyter-widgets/base",
            "top": null,
            "grid_column": null,
            "overflow_y": null,
            "overflow_x": null,
            "grid_auto_flow": null,
            "grid_area": null,
            "grid_template_columns": null,
            "flex": null,
            "_model_name": "LayoutModel",
            "justify_items": null,
            "grid_row": null,
            "max_height": null,
            "align_content": null,
            "visibility": null,
            "align_self": null,
            "height": null,
            "min_height": null,
            "padding": null,
            "grid_auto_rows": null,
            "grid_gap": null,
            "max_width": null,
            "order": null,
            "_view_module_version": "1.2.0",
            "grid_template_areas": null,
            "object_position": null,
            "object_fit": null,
            "grid_auto_columns": null,
            "margin": null,
            "display": null,
            "left": null
          }
        }
      }
    }
  },
  "cells": [
    {
      "cell_type": "markdown",
      "metadata": {
        "id": "IYS9c7fArlAj"
      },
      "source": [
        "#  Faster HuggingFace🤗 Transformers Training\n",
        "> with dynamic padding and order batches\n",
        "- toc: true\n",
        "- branch: master\n",
        "- badges: true\n",
        "- image: images/dynamic-pad.png\n",
        "- comments: true\n",
        "- author: Sajjad Ayoubi\n",
        "- categories: [tips]"
      ]
    },
    {
      "cell_type": "markdown",
      "metadata": {
        "id": "qY0U3eXRzxq-"
      },
      "source": [
        "- dynamic padding at one glance\n",
        "\n",
        "![](https://uupload.ir/files/79ki_dynamic-pad.png)"
      ]
    },
    {
      "cell_type": "code",
      "metadata": {
        "id": "ISJYoSlkzB7A",
        "colab": {
          "base_uri": "https://localhost:8080/"
        },
        "outputId": "79ca0592-5332-46c5-c1ae-ec3180cf0e90"
      },
      "source": [
        "!nvidia-smi"
      ],
      "execution_count": null,
      "outputs": [
        {
          "output_type": "stream",
          "text": [
            "Sat Mar 13 03:21:37 2021       \n",
            "+-----------------------------------------------------------------------------+\n",
            "| NVIDIA-SMI 460.56       Driver Version: 460.32.03    CUDA Version: 11.2     |\n",
            "|-------------------------------+----------------------+----------------------+\n",
            "| GPU  Name        Persistence-M| Bus-Id        Disp.A | Volatile Uncorr. ECC |\n",
            "| Fan  Temp  Perf  Pwr:Usage/Cap|         Memory-Usage | GPU-Util  Compute M. |\n",
            "|                               |                      |               MIG M. |\n",
            "|===============================+======================+======================|\n",
            "|   0  Tesla T4            Off  | 00000000:00:04.0 Off |                    0 |\n",
            "| N/A   40C    P8     9W /  70W |      0MiB / 15109MiB |      0%      Default |\n",
            "|                               |                      |                  N/A |\n",
            "+-------------------------------+----------------------+----------------------+\n",
            "                                                                               \n",
            "+-----------------------------------------------------------------------------+\n",
            "| Processes:                                                                  |\n",
            "|  GPU   GI   CI        PID   Type   Process name                  GPU Memory |\n",
            "|        ID   ID                                                   Usage      |\n",
            "|=============================================================================|\n",
            "|  No running processes found                                                 |\n",
            "+-----------------------------------------------------------------------------+\n"
          ],
          "name": "stdout"
        }
      ]
    },
    {
      "cell_type": "markdown",
      "metadata": {
        "id": "UYJMrtJV0CYW"
      },
      "source": [
        "- installing normal things"
      ]
    },
    {
      "cell_type": "code",
      "metadata": {
        "id": "hCWnECaMtGMk",
        "colab": {
          "base_uri": "https://localhost:8080/"
        },
        "outputId": "14b92a45-1a44-4697-b360-8e3883b8f3d2"
      },
      "source": [
        "!pip install -q transformers\n",
        "!pip install -q datasets"
      ],
      "execution_count": null,
      "outputs": [
        {
          "output_type": "stream",
          "text": [
            "\u001b[K     |████████████████████████████████| 1.9MB 18.2MB/s \n",
            "\u001b[K     |████████████████████████████████| 3.2MB 58.2MB/s \n",
            "\u001b[K     |████████████████████████████████| 890kB 52.2MB/s \n",
            "\u001b[?25h  Building wheel for sacremoses (setup.py) ... \u001b[?25l\u001b[?25hdone\n",
            "\u001b[K     |████████████████████████████████| 194kB 18.2MB/s \n",
            "\u001b[K     |████████████████████████████████| 112kB 13.9MB/s \n",
            "\u001b[K     |████████████████████████████████| 245kB 25.1MB/s \n",
            "\u001b[?25h"
          ],
          "name": "stdout"
        }
      ]
    },
    {
      "cell_type": "markdown",
      "metadata": {
        "id": "IKyojs1b0G6N"
      },
      "source": [
        "- importing normal things"
      ]
    },
    {
      "cell_type": "code",
      "metadata": {
        "id": "A0vFEcSpCPsF"
      },
      "source": [
        "import random, os\n",
        "import numpy as np\n",
        "from copy import deepcopy\n",
        "\n",
        "import torch\n",
        "from torch.utils.data.dataset import Dataset\n",
        "from torch.utils.data import DataLoader\n",
        "from torch.utils.data.sampler import SequentialSampler\n",
        "\n",
        "from datasets import load_dataset\n",
        "from transformers import AutoTokenizer, AutoModelForSequenceClassification\n",
        "from transformers import TrainingArguments, Trainer"
      ],
      "execution_count": null,
      "outputs": []
    },
    {
      "cell_type": "markdown",
      "metadata": {
        "id": "VZkgZD_k0Kod"
      },
      "source": [
        "- set all params that we need"
      ]
    },
    {
      "cell_type": "code",
      "metadata": {
        "id": "THwozktbCYSN"
      },
      "source": [
        "model_checkpoint = \"distilbert-base-uncased\"\n",
        "max_length = 512\n",
        "batch_size = 16\n",
        "epochs = 2\n",
        "lr = 2e-5"
      ],
      "execution_count": null,
      "outputs": []
    },
    {
      "cell_type": "markdown",
      "metadata": {
        "id": "XeO8eXz70gAG"
      },
      "source": [
        "## loading IMBD dataset \n",
        "- as an example"
      ]
    },
    {
      "cell_type": "code",
      "metadata": {
        "id": "GVig7qxOBmrK"
      },
      "source": [
        "tokenizer = AutoTokenizer.from_pretrained(model_checkpoint)"
      ],
      "execution_count": null,
      "outputs": []
    },
    {
      "cell_type": "code",
      "metadata": {
        "id": "pFwe3qBuTCTv"
      },
      "source": [
        "train, test = load_dataset('imdb', split=['train', 'test'])"
      ],
      "execution_count": null,
      "outputs": []
    },
    {
      "cell_type": "code",
      "metadata": {
        "id": "8j3TOIO-10qI"
      },
      "source": [
        "toknize_with_padding = lambda x: tokenizer(x['text'], truncation=True, padding=True)\n",
        "\n",
        "# prepare datasets\n",
        "train_ds = train.map(toknize_with_padding, batched=True, batch_size=128, remove_columns=['text']).shuffle()\n",
        "test_ds = test.map(toknize_with_padding, batched=True, batch_size=128, remove_columns=['text']).shuffle()"
      ],
      "execution_count": null,
      "outputs": []
    },
    {
      "cell_type": "code",
      "metadata": {
        "id": "cFtVPX_Iivw1"
      },
      "source": [
        "def torch_seed(seed=0):\n",
        "    os.environ['PYTHONHASHSEED'] = str(seed)\n",
        "    random.seed(seed)\n",
        "    np.random.seed(seed)\n",
        "    torch.manual_seed(seed)\n",
        "    torch.backends.cudnn.deterministic = True\n",
        "    torch.backends.cudnn.benchmark = False\n",
        "    torch.cuda.manual_seed_all(seed)\n",
        "\n",
        "torch_seed()"
      ],
      "execution_count": null,
      "outputs": []
    },
    {
      "cell_type": "markdown",
      "metadata": {
        "id": "8pMC6hFr0yhx"
      },
      "source": [
        "- loading model and saveing original weights for reproducibility"
      ]
    },
    {
      "cell_type": "code",
      "metadata": {
        "id": "IVKTye3j3eBY",
        "colab": {
          "base_uri": "https://localhost:8080/",
          "height": 184,
          "referenced_widgets": [
            "beb0d43cb24e46ea853c00a56ebd7b45",
            "a791d9b8702946ac9d32a1ded022fefe",
            "f98e4c4aae42425a89afa05f0c9892bc",
            "1c5ff16989754b5aa3fe262007800777",
            "f8d8d957ec6242fbb21ed2bba57bb533",
            "19b0fa542b5f4d51b050e4a15cedfe47",
            "0f9f085a41a04ef7ac66229bb070cf4a",
            "1b47df87b7df4a8481d062bcd7034833"
          ]
        },
        "outputId": "126fafa6-a866-42fc-8d22-54b4e78ca352"
      },
      "source": [
        "model = AutoModelForSequenceClassification.from_pretrained(model_checkpoint)\n",
        "weights = deepcopy(model.state_dict())"
      ],
      "execution_count": null,
      "outputs": [
        {
          "output_type": "display_data",
          "data": {
            "application/vnd.jupyter.widget-view+json": {
              "model_id": "beb0d43cb24e46ea853c00a56ebd7b45",
              "version_minor": 0,
              "version_major": 2
            },
            "text/plain": [
              "HBox(children=(FloatProgress(value=0.0, description='Downloading', max=267967963.0, style=ProgressStyle(descri…"
            ]
          },
          "metadata": {
            "tags": []
          }
        },
        {
          "output_type": "stream",
          "text": [
            "\n"
          ],
          "name": "stdout"
        },
        {
          "output_type": "stream",
          "text": [
            "Some weights of the model checkpoint at distilbert-base-uncased were not used when initializing DistilBertForSequenceClassification: ['vocab_transform.weight', 'vocab_transform.bias', 'vocab_layer_norm.weight', 'vocab_layer_norm.bias', 'vocab_projector.weight', 'vocab_projector.bias']\n",
            "- This IS expected if you are initializing DistilBertForSequenceClassification from the checkpoint of a model trained on another task or with another architecture (e.g. initializing a BertForSequenceClassification model from a BertForPreTraining model).\n",
            "- This IS NOT expected if you are initializing DistilBertForSequenceClassification from the checkpoint of a model that you expect to be exactly identical (initializing a BertForSequenceClassification model from a BertForSequenceClassification model).\n",
            "Some weights of DistilBertForSequenceClassification were not initialized from the model checkpoint at distilbert-base-uncased and are newly initialized: ['pre_classifier.weight', 'pre_classifier.bias', 'classifier.weight', 'classifier.bias']\n",
            "You should probably TRAIN this model on a down-stream task to be able to use it for predictions and inference.\n"
          ],
          "name": "stderr"
        }
      ]
    },
    {
      "cell_type": "markdown",
      "metadata": {
        "id": "_ao0958Gix5D"
      },
      "source": [
        "## Normal Padding\n",
        "- train with padding until biggest example in dataset\n",
        "- or set a max_len "
      ]
    },
    {
      "cell_type": "code",
      "metadata": {
        "id": "EHwYC6KA3WcR"
      },
      "source": [
        "args = TrainingArguments(\n",
        "    f\"result\",\n",
        "    evaluation_strategy='epoch',\n",
        "    save_steps=999999, # we don't need saving \n",
        "    learning_rate=lr,\n",
        "    per_device_train_batch_size=batch_size,\n",
        "    per_device_eval_batch_size=batch_size,\n",
        "    num_train_epochs=epochs,\n",
        "    )"
      ],
      "execution_count": null,
      "outputs": []
    },
    {
      "cell_type": "code",
      "metadata": {
        "id": "Vok0IT7PtYOS"
      },
      "source": [
        "model.load_state_dict(weights)"
      ],
      "execution_count": null,
      "outputs": []
    },
    {
      "cell_type": "code",
      "metadata": {
        "colab": {
          "base_uri": "https://localhost:8080/",
          "height": 154
        },
        "id": "mY-an6FTnSvU",
        "outputId": "d3837e53-4887-4fb8-dcbd-99cfea30bf0c"
      },
      "source": [
        "trainer = Trainer(\n",
        "    model=model,\n",
        "    args=args,\n",
        "    train_dataset=train_ds,\n",
        "    eval_dataset=test_ds,\n",
        "    )\n",
        "\n",
        "trainer.train()"
      ],
      "execution_count": null,
      "outputs": [
        {
          "output_type": "display_data",
          "data": {
            "text/html": [
              "\n",
              "    <div>\n",
              "        <style>\n",
              "            /* Turns off some styling */\n",
              "            progress {\n",
              "                /* gets rid of default border in Firefox and Opera. */\n",
              "                border: none;\n",
              "                /* Needs to be in here for Safari polyfill so background images work as expected. */\n",
              "                background-size: auto;\n",
              "            }\n",
              "        </style>\n",
              "      \n",
              "      <progress value='3126' max='3126' style='width:300px; height:20px; vertical-align: middle;'></progress>\n",
              "      [3126/3126 59:03, Epoch 2/2]\n",
              "    </div>\n",
              "    <table border=\"1\" class=\"dataframe\">\n",
              "  <thead>\n",
              "    <tr style=\"text-align: left;\">\n",
              "      <th>Epoch</th>\n",
              "      <th>Training Loss</th>\n",
              "      <th>Validation Loss</th>\n",
              "      <th>Runtime</th>\n",
              "      <th>Samples Per Second</th>\n",
              "    </tr>\n",
              "  </thead>\n",
              "  <tbody>\n",
              "    <tr>\n",
              "      <td>1</td>\n",
              "      <td>0.227000</td>\n",
              "      <td>0.206788</td>\n",
              "      <td>469.372300</td>\n",
              "      <td>53.263000</td>\n",
              "    </tr>\n",
              "    <tr>\n",
              "      <td>2</td>\n",
              "      <td>0.124700</td>\n",
              "      <td>0.236525</td>\n",
              "      <td>470.060200</td>\n",
              "      <td>53.185000</td>\n",
              "    </tr>\n",
              "  </tbody>\n",
              "</table><p>"
            ],
            "text/plain": [
              "<IPython.core.display.HTML object>"
            ]
          },
          "metadata": {
            "tags": []
          }
        },
        {
          "output_type": "execute_result",
          "data": {
            "text/plain": [
              "TrainOutput(global_step=3126, training_loss=0.20294074926785147, metrics={'train_runtime': 3544.891, 'train_samples_per_second': 0.882, 'total_flos': 10284289536000000, 'epoch': 2.0})"
            ]
          },
          "metadata": {
            "tags": []
          },
          "execution_count": 14
        }
      ]
    },
    {
      "cell_type": "markdown",
      "metadata": {
        "id": "aUpo4DwNwPtd"
      },
      "source": [
        "- it takes about one hour right"
      ]
    },
    {
      "cell_type": "markdown",
      "metadata": {
        "id": "bWjbiCcOQ1t0"
      },
      "source": [
        "## Dynamic Padding\n"
      ]
    },
    {
      "cell_type": "markdown",
      "metadata": {
        "id": "IhIGEFE01oNk"
      },
      "source": [
        "- first of all we don't need padding in tokenization stage\n",
        "  - we doing it on training time"
      ]
    },
    {
      "cell_type": "code",
      "metadata": {
        "id": "YL9G7ln9RR5z",
        "colab": {
          "base_uri": "https://localhost:8080/",
          "height": 119,
          "referenced_widgets": [
            "2fae59881a504a28bf3e243aae7cd942",
            "4a7e3317ea82444ba340c36cca9e07ae",
            "33925d166d414bd8a3bb01af93f25195",
            "06c7572a4eb34eb989a05e1a7c30c037",
            "51907cc16e584a1a9903549344272b31",
            "e012f5cd0e6745b88da9bb9d6541ab09",
            "6994e9986759403db325d2435256d72d",
            "1c8d1d22cd38414a829ce89b5289fe1e",
            "332e2ca115434f74bee0a7de7f9b5ca7",
            "2d821fbe97334012b63dc6e60c66dd81",
            "a27462a785c44fbb9ed02bcc56910189",
            "8d2beb74f98544d391dec7c29d732b51",
            "e89961ffe9124dec90623f978706eef8",
            "e8fece5c9125468c8605679d48baeeab",
            "1706325fc88643a083d3bb274a4fdaf8",
            "c6a5102e032244a3868db27e56b73ce1"
          ]
        },
        "outputId": "f46da2b9-9fa7-46f2-e334-69420b46061a"
      },
      "source": [
        "toknize_wo_padding = lambda x: tokenizer(x['text'], truncation=True, padding=False)\n",
        "\n",
        "# prepare datasets\n",
        "train_ds = train.map(toknize_wo_padding, batched=True, batch_size=128, remove_columns=['text'])\n",
        "test_ds = test.map(toknize_wo_padding, batched=True, batch_size=128, remove_columns=['text'])"
      ],
      "execution_count": null,
      "outputs": [
        {
          "output_type": "display_data",
          "data": {
            "application/vnd.jupyter.widget-view+json": {
              "model_id": "2fae59881a504a28bf3e243aae7cd942",
              "version_minor": 0,
              "version_major": 2
            },
            "text/plain": [
              "HBox(children=(FloatProgress(value=0.0, max=196.0), HTML(value='')))"
            ]
          },
          "metadata": {
            "tags": []
          }
        },
        {
          "output_type": "stream",
          "text": [
            "\n"
          ],
          "name": "stdout"
        },
        {
          "output_type": "display_data",
          "data": {
            "application/vnd.jupyter.widget-view+json": {
              "model_id": "332e2ca115434f74bee0a7de7f9b5ca7",
              "version_minor": 0,
              "version_major": 2
            },
            "text/plain": [
              "HBox(children=(FloatProgress(value=0.0, max=196.0), HTML(value='')))"
            ]
          },
          "metadata": {
            "tags": []
          }
        },
        {
          "output_type": "stream",
          "text": [
            "\n"
          ],
          "name": "stdout"
        }
      ]
    },
    {
      "cell_type": "markdown",
      "metadata": {
        "id": "8n5FYc8W11Gg"
      },
      "source": [
        "- we need a pytorch data collator which pad each batch until biggest example on it"
      ]
    },
    {
      "cell_type": "code",
      "metadata": {
        "id": "Ch3QJ9gZQ_2N"
      },
      "source": [
        "# add padding until to biggest seq in this batch\n",
        "def add_pad(seq, max_batch_len, pad_token):\n",
        "    return seq + (max_batch_len - len(seq)) * [pad_token]\n",
        "\n",
        "# PyTorch data collator\n",
        "def dynamic_padding(batch):\n",
        "    batch_input_ids = []\n",
        "    batch_attention_masks = []\n",
        "    labels = []\n",
        "    max_size = max([len(i['input_ids']) for i in batch])\n",
        "    for i in batch:\n",
        "        batch_input_ids.append(add_pad(i['input_ids'], max_size, tokenizer.pad_token_id)) # add pad for ids\n",
        "        batch_attention_masks.append(add_pad(i['attention_mask'], max_size, 0)) # add pad for mask\n",
        "        labels.append(i['label'])\n",
        "\n",
        "    return {\"input_ids\": torch.tensor(batch_input_ids, dtype=torch.long),\n",
        "            \"attention_mask\": torch.tensor(batch_attention_masks, dtype=torch.long),\n",
        "            \"labels\": torch.tensor(labels, dtype=torch.long)}"
      ],
      "execution_count": null,
      "outputs": []
    },
    {
      "cell_type": "code",
      "metadata": {
        "id": "kgOCtZa1o--T"
      },
      "source": [
        "model.load_state_dict(weights)"
      ],
      "execution_count": null,
      "outputs": []
    },
    {
      "cell_type": "code",
      "metadata": {
        "id": "nQycZt_3RhDj",
        "colab": {
          "base_uri": "https://localhost:8080/",
          "height": 154
        },
        "outputId": "36639da1-6ea7-4d90-f2e5-20e982aab3a1"
      },
      "source": [
        "trainer = Trainer(\n",
        "    model=model,\n",
        "    args=args,\n",
        "    train_dataset=train_ds,\n",
        "    eval_dataset=test_ds,\n",
        "    data_collator=dynamic_padding # passing dynamic padding as a new collator\n",
        "    )\n",
        "\n",
        "trainer.train()"
      ],
      "execution_count": null,
      "outputs": [
        {
          "output_type": "display_data",
          "data": {
            "text/html": [
              "\n",
              "    <div>\n",
              "        <style>\n",
              "            /* Turns off some styling */\n",
              "            progress {\n",
              "                /* gets rid of default border in Firefox and Opera. */\n",
              "                border: none;\n",
              "                /* Needs to be in here for Safari polyfill so background images work as expected. */\n",
              "                background-size: auto;\n",
              "            }\n",
              "        </style>\n",
              "      \n",
              "      <progress value='3126' max='3126' style='width:300px; height:20px; vertical-align: middle;'></progress>\n",
              "      [3126/3126 58:43, Epoch 2/2]\n",
              "    </div>\n",
              "    <table border=\"1\" class=\"dataframe\">\n",
              "  <thead>\n",
              "    <tr style=\"text-align: left;\">\n",
              "      <th>Epoch</th>\n",
              "      <th>Training Loss</th>\n",
              "      <th>Validation Loss</th>\n",
              "      <th>Runtime</th>\n",
              "      <th>Samples Per Second</th>\n",
              "    </tr>\n",
              "  </thead>\n",
              "  <tbody>\n",
              "    <tr>\n",
              "      <td>1</td>\n",
              "      <td>0.215100</td>\n",
              "      <td>0.193075</td>\n",
              "      <td>458.983600</td>\n",
              "      <td>54.468000</td>\n",
              "    </tr>\n",
              "    <tr>\n",
              "      <td>2</td>\n",
              "      <td>0.131700</td>\n",
              "      <td>0.240500</td>\n",
              "      <td>459.432200</td>\n",
              "      <td>54.415000</td>\n",
              "    </tr>\n",
              "  </tbody>\n",
              "</table><p>"
            ],
            "text/plain": [
              "<IPython.core.display.HTML object>"
            ]
          },
          "metadata": {
            "tags": []
          }
        },
        {
          "output_type": "execute_result",
          "data": {
            "text/plain": [
              "TrainOutput(global_step=3126, training_loss=0.2033301882460113, metrics={'train_runtime': 3524.2944, 'train_samples_per_second': 0.887, 'total_flos': 10190053305445440, 'epoch': 2.0})"
            ]
          },
          "metadata": {
            "tags": []
          },
          "execution_count": 19
        }
      ]
    },
    {
      "cell_type": "markdown",
      "metadata": {
        "id": "9AVSjMhewbm2"
      },
      "source": [
        "- with just dynamic padding we have not a huge improvement\n",
        "  - it depends on the variety of sequence length in the dataset\n",
        "  - on the SQuAD2 dataset, I Have x1.5 boost just with Dynamic Padding"
      ]
    },
    {
      "cell_type": "markdown",
      "metadata": {
        "id": "KVeNzhaJVPee"
      },
      "source": [
        "## Dynamic Padding With Sorting"
      ]
    },
    {
      "cell_type": "code",
      "metadata": {
        "id": "firIMFLHVzCB"
      },
      "source": [
        "class SortedDataset(Dataset):\n",
        "  def __init__(self, examples):\n",
        "    self.examples = sorted(examples, key=lambda t: len(t['input_ids']))\n",
        "\n",
        "  def __getitem__(self, i):\n",
        "    return self.examples[i]\n",
        "\n",
        "  def __len__(self):\n",
        "    return len(self.examples)\n",
        "\n",
        "sorted_train_ds = SortedDataset(train_ds.shuffle())\n",
        "sorted_test_ds = SortedDataset(test_ds.shuffle())"
      ],
      "execution_count": null,
      "outputs": []
    },
    {
      "cell_type": "markdown",
      "metadata": {
        "id": "NVVv41XZ2Xed"
      },
      "source": [
        "- in transformer.Trainer default sampler is RandomSampler\n",
        "  - we don't wanna shuffle data\n",
        "  - we ovverride Trainer class and create a new DataLoder with SequentialSampler"
      ]
    },
    {
      "cell_type": "code",
      "metadata": {
        "id": "kEDEtEnYXaGq"
      },
      "source": [
        "from torch.utils.data.sampler import SequentialSampler\n",
        "\n",
        "# new Trainer class with SequentialSampler\n",
        "class SortedTrainer(Trainer):\n",
        "  def get_train_dataloader(self):    \n",
        "    return DataLoader(\n",
        "        self.train_dataset,\n",
        "        batch_size=self.args.train_batch_size,\n",
        "        sampler=SequentialSampler(self.train_dataset), # for don't doing shuffle on train_ds\n",
        "        collate_fn=self.data_collator)"
      ],
      "execution_count": null,
      "outputs": []
    },
    {
      "cell_type": "code",
      "metadata": {
        "id": "gjrrkhD8pD2f"
      },
      "source": [
        "model.load_state_dict(weights)"
      ],
      "execution_count": null,
      "outputs": []
    },
    {
      "cell_type": "code",
      "metadata": {
        "id": "eQE75Ky3XCJF",
        "colab": {
          "base_uri": "https://localhost:8080/",
          "height": 154
        },
        "outputId": "19325d96-595c-435c-907c-1063ce16490e"
      },
      "source": [
        "trainer = SortedTrainer( # using SortedTrainer instead of Trainer\n",
        "    model=model,\n",
        "    args=args,\n",
        "    train_dataset=sorted_train_ds,\n",
        "    eval_dataset=sorted_test_ds,\n",
        "    data_collator=dynamic_padding)\n",
        "\n",
        "trainer.train()"
      ],
      "execution_count": null,
      "outputs": [
        {
          "output_type": "display_data",
          "data": {
            "text/html": [
              "\n",
              "    <div>\n",
              "        <style>\n",
              "            /* Turns off some styling */\n",
              "            progress {\n",
              "                /* gets rid of default border in Firefox and Opera. */\n",
              "                border: none;\n",
              "                /* Needs to be in here for Safari polyfill so background images work as expected. */\n",
              "                background-size: auto;\n",
              "            }\n",
              "        </style>\n",
              "      \n",
              "      <progress value='3126' max='3126' style='width:300px; height:20px; vertical-align: middle;'></progress>\n",
              "      [3126/3126 32:05, Epoch 2/2]\n",
              "    </div>\n",
              "    <table border=\"1\" class=\"dataframe\">\n",
              "  <thead>\n",
              "    <tr style=\"text-align: left;\">\n",
              "      <th>Epoch</th>\n",
              "      <th>Training Loss</th>\n",
              "      <th>Validation Loss</th>\n",
              "      <th>Runtime</th>\n",
              "      <th>Samples Per Second</th>\n",
              "    </tr>\n",
              "  </thead>\n",
              "  <tbody>\n",
              "    <tr>\n",
              "      <td>1</td>\n",
              "      <td>0.244000</td>\n",
              "      <td>0.192687</td>\n",
              "      <td>241.501000</td>\n",
              "      <td>103.519000</td>\n",
              "    </tr>\n",
              "    <tr>\n",
              "      <td>2</td>\n",
              "      <td>0.143500</td>\n",
              "      <td>0.256823</td>\n",
              "      <td>242.278800</td>\n",
              "      <td>103.187000</td>\n",
              "    </tr>\n",
              "  </tbody>\n",
              "</table><p>"
            ],
            "text/plain": [
              "<IPython.core.display.HTML object>"
            ]
          },
          "metadata": {
            "tags": []
          }
        },
        {
          "output_type": "execute_result",
          "data": {
            "text/plain": [
              "TrainOutput(global_step=3126, training_loss=0.2028842329292517, metrics={'train_runtime': 1925.2676, 'train_samples_per_second': 1.624, 'total_flos': 5532806361386880, 'epoch': 2.0})"
            ]
          },
          "metadata": {
            "tags": []
          },
          "execution_count": 25
        }
      ]
    },
    {
      "cell_type": "markdown",
      "metadata": {
        "id": "MKgBoIqOxNYz"
      },
      "source": [
        "- now with sorted dataset we have 2 time faster training\n",
        "  - but we have not the advantage of stochastic training\n",
        "  - the simplest solution is Sortish Training"
      ]
    },
    {
      "cell_type": "markdown",
      "metadata": {
        "id": "KJ6OpAIjXu2y"
      },
      "source": [
        "## Dynamic Padding with Sortish"
      ]
    },
    {
      "cell_type": "markdown",
      "metadata": {
        "id": "shnVj7xcDRUC"
      },
      "source": [
        "- sortish mean sort each mega batch instead of entire dataset\n",
        "  - for having the advantage of randomness with padding"
      ]
    },
    {
      "cell_type": "code",
      "metadata": {
        "id": "t_2fu2KPX5FO"
      },
      "source": [
        "class SortishDataset(Dataset):\n",
        "  def __init__(self, examples, batch_size=16, orderish=True, mega_size=30):\n",
        "    n = len(examples)\n",
        "    if orderish:  step = batch_size*mega_size\n",
        "    else: step = int(batch_size*(1/batch_size))\n",
        "    \n",
        "    sortish_examples = []\n",
        "    for mega_batch in range(0, n, step):\n",
        "      if mega_batch+step>n:\n",
        "          sortish_examples += sorted(examples.select(range(mega_batch, n)), key=lambda t: len(t['input_ids']))\n",
        "          break\n",
        "      sortish_examples += sorted(examples.select(range(mega_batch, mega_batch+step)), key=lambda t: len(t['input_ids']))\n",
        "\n",
        "    self.sortish_examples = sortish_examples\n",
        "\n",
        "  def __getitem__(self, i):\n",
        "    return self.sortish_examples[i]\n",
        "\n",
        "  def __len__(self):\n",
        "    return len(self.sortish_examples)\n",
        "\n",
        "\n",
        "sortish_train_ds = SortishDataset(train_ds.shuffle(), orderish=True, batch_size=batch_size)\n",
        "sortish_test_ds = SortishDataset(test_ds, orderish=False, batch_size=batch_size)"
      ],
      "execution_count": null,
      "outputs": []
    },
    {
      "cell_type": "code",
      "metadata": {
        "id": "cN-CE1ODpHom"
      },
      "source": [
        "model.load_state_dict(weights)"
      ],
      "execution_count": null,
      "outputs": []
    },
    {
      "cell_type": "code",
      "metadata": {
        "colab": {
          "base_uri": "https://localhost:8080/",
          "height": 210
        },
        "id": "dN89n8cfWY5s",
        "outputId": "08457b15-6ea3-40a7-ee3f-7047f0cd1504"
      },
      "source": [
        "trainer = SortedTrainer(\n",
        "    model=model,\n",
        "    args=args,\n",
        "    train_dataset=sortish_train_ds,\n",
        "    eval_dataset=sortish_test_ds,\n",
        "    data_collator=dynamic_padding)\n",
        "\n",
        "trainer.train()"
      ],
      "execution_count": null,
      "outputs": [
        {
          "output_type": "display_data",
          "data": {
            "text/html": [
              "\n",
              "    <div>\n",
              "        <style>\n",
              "            /* Turns off some styling */\n",
              "            progress {\n",
              "                /* gets rid of default border in Firefox and Opera. */\n",
              "                border: none;\n",
              "                /* Needs to be in here for Safari polyfill so background images work as expected. */\n",
              "                background-size: auto;\n",
              "            }\n",
              "        </style>\n",
              "      \n",
              "      <progress value='3126' max='3126' style='width:300px; height:20px; vertical-align: middle;'></progress>\n",
              "      [3126/3126 40:02, Epoch 2/2]\n",
              "    </div>\n",
              "    <table border=\"1\" class=\"dataframe\">\n",
              "  <thead>\n",
              "    <tr style=\"text-align: left;\">\n",
              "      <th>Epoch</th>\n",
              "      <th>Training Loss</th>\n",
              "      <th>Validation Loss</th>\n",
              "      <th>Runtime</th>\n",
              "      <th>Samples Per Second</th>\n",
              "    </tr>\n",
              "  </thead>\n",
              "  <tbody>\n",
              "    <tr>\n",
              "      <td>1</td>\n",
              "      <td>0.225600</td>\n",
              "      <td>0.228117</td>\n",
              "      <td>459.673200</td>\n",
              "      <td>54.386000</td>\n",
              "    </tr>\n",
              "    <tr>\n",
              "      <td>2</td>\n",
              "      <td>0.131000</td>\n",
              "      <td>0.231613</td>\n",
              "      <td>459.862300</td>\n",
              "      <td>54.364000</td>\n",
              "    </tr>\n",
              "  </tbody>\n",
              "</table><p>"
            ],
            "text/plain": [
              "<IPython.core.display.HTML object>"
            ]
          },
          "metadata": {
            "tags": []
          }
        }
      ]
    },
    {
      "cell_type": "markdown",
      "metadata": {
        "id": "VquwAF4lyTcO"
      },
      "source": [
        "- not bad ha??\n",
        "  - 40 mins without any effects on training"
      ]
    }
  ]
}