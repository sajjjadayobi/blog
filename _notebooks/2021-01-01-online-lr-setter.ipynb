{
  "nbformat": 4,
  "nbformat_minor": 0,
  "metadata": {
    "colab": {
      "name": "OnlineLrSetter.ipynb",
      "provenance": [],
      "collapsed_sections": []
    },
    "kernelspec": {
      "name": "python3",
      "display_name": "Python 3"
    }
  },
  "cells": [
    {
      "cell_type": "markdown",
      "metadata": {
        "id": "kkjos32O7V9c"
      },
      "source": [
        "#  Online Learning Rate in Keras\r\n",
        "> compatible with model.fit\r\n",
        "- toc: true\r\n",
        "- branch: master\r\n",
        "- badges: true\r\n",
        "- image: images/dynamic-pad.png\r\n",
        "- comments: true\r\n",
        "- author: Sajjad Ayoubi\r\n",
        "- categories: [tips]"
      ]
    },
    {
      "cell_type": "markdown",
      "metadata": {
        "id": "2yPaeU1kNaFg"
      },
      "source": [
        "- I use this functionality with `Tensorboard`\r\n",
        "  - we change the LR with regard to the loss curve in Tensorboard"
      ]
    },
    {
      "cell_type": "code",
      "metadata": {
        "id": "SAB1qSI96e6F"
      },
      "source": [
        "import pandas as pd\r\n",
        "import tensorflow as tf"
      ],
      "execution_count": 1,
      "outputs": []
    },
    {
      "cell_type": "markdown",
      "metadata": {
        "id": "GU00pu_L6s01"
      },
      "source": [
        "- we create a CSV file for reading lrs\r\n",
        "  - we need a Keras scheduler in order to use model.fit"
      ]
    },
    {
      "cell_type": "code",
      "metadata": {
        "id": "S5t1zsjc6ndF"
      },
      "source": [
        "class OnlineLr():\r\n",
        "  def __init__(self, init_lrs=[5e-3], path='lrs'):\r\n",
        "      # create a CSV file for saving lrs\r\n",
        "      lrs = pd.DataFrame(data=init_lrs, columns=['lrs'])\r\n",
        "      lrs.index.name = 'epoch'\r\n",
        "      self.path = path+'.csv'\r\n",
        "      lrs.to_csv(self.path)\r\n",
        "      del lrs\r\n",
        "  \r\n",
        "  def add_lrs(self, lr):\r\n",
        "      df = pd.read_csv(self.path)\r\n",
        "      df = df.append({'epoch': df.epoch.iloc[-1], 'lrs': lr}, ignore_index=True)\r\n",
        "      df.to_csv(self.path)\r\n",
        "      del df\r\n",
        "\r\n",
        "  def __call__(self, epoch):\r\n",
        "      # give an epoch, return a lr\r\n",
        "      df = pd.read_csv(self.path)\r\n",
        "      return df.lrs[epoch]"
      ],
      "execution_count": 20,
      "outputs": []
    },
    {
      "cell_type": "code",
      "metadata": {
        "colab": {
          "base_uri": "https://localhost:8080/"
        },
        "id": "YRhqoQM369vo",
        "outputId": "fdbdc0e7-775c-4b78-9528-7ef2a2309e8c"
      },
      "source": [
        "scheduler = OnlineLr(init_lrs=[5e-3])\r\n",
        "scheduler(0) # 5e-5"
      ],
      "execution_count": 24,
      "outputs": [
        {
          "output_type": "execute_result",
          "data": {
            "text/plain": [
              "0.005"
            ]
          },
          "metadata": {
            "tags": []
          },
          "execution_count": 24
        }
      ]
    },
    {
      "cell_type": "markdown",
      "metadata": {
        "id": "sAZElb4hL6my"
      },
      "source": [
        "- we can add new lr in another kernel \r\n",
        "  - or dirctly from file"
      ]
    },
    {
      "cell_type": "code",
      "metadata": {
        "colab": {
          "base_uri": "https://localhost:8080/"
        },
        "id": "EaxlGMt77xKg",
        "outputId": "b32216ca-c4f1-435c-b197-f69977dbaae6"
      },
      "source": [
        "scheduler.add_lrs(lr=1e-3)\r\n",
        "scheduler(1)"
      ],
      "execution_count": 25,
      "outputs": [
        {
          "output_type": "execute_result",
          "data": {
            "text/plain": [
              "0.001"
            ]
          },
          "metadata": {
            "tags": []
          },
          "execution_count": 25
        }
      ]
    },
    {
      "cell_type": "markdown",
      "metadata": {
        "id": "PKfHfAQr7Jwz"
      },
      "source": [
        "- with `keras.callbacks` we can use it in `model.fit`"
      ]
    },
    {
      "cell_type": "code",
      "metadata": {
        "id": "3WXslRtC6rlg"
      },
      "source": [
        "callback = tf.keras.callbacks.LearningRateScheduler(schedule=scheduler, verbose=1)\r\n",
        "# then pass it to the fit function"
      ],
      "execution_count": 23,
      "outputs": []
    },
    {
      "cell_type": "markdown",
      "metadata": {
        "id": "gC3spGh-7buk"
      },
      "source": [
        "- alternative choice is `LROnPlateau`\r\n",
        "  - but I love to have the most control"
      ]
    }
  ]
}