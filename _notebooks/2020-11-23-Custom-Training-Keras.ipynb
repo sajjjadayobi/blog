{
  "nbformat": 4,
  "nbformat_minor": 0,
  "metadata": {
    "colab": {
      "name": "Untitled0.ipynb",
      "provenance": [],
      "collapsed_sections": []
    },
    "kernelspec": {
      "name": "python3",
      "display_name": "Python 3"
    }
  },
  "cells": [
    {
      "cell_type": "markdown",
      "metadata": {
        "id": "q6jruoCKNtpE"
      },
      "source": [
        "# Custom Training in Keras & TF 2.X\n",
        "> use fit even if you have a custom training loop (cifar10 example)\n",
        "- toc: true\n",
        "- branch: master\n",
        "- badgets: true\n",
        "- comments: true\n",
        "- image: images/train_loop.png\n",
        "- author: Sajjad Ayoubi\n",
        "- categories: [tips]"
      ]
    },
    {
      "cell_type": "markdown",
      "metadata": {
        "id": "DDuVLwJ8a98G"
      },
      "source": [
        "- with this new syntax from Keras, you can write a complex training loop using model subclassing\n"
      ]
    },
    {
      "cell_type": "markdown",
      "metadata": {
        "id": "x3S7Q2EZY3TT"
      },
      "source": [
        "## Example \n",
        "- Cifar10 with Resnetish Model"
      ]
    },
    {
      "cell_type": "code",
      "metadata": {
        "id": "H6_IV9uIOKCF"
      },
      "source": [
        "import tensorflow as tf\n",
        "from tensorflow.keras import layers"
      ],
      "execution_count": 1,
      "outputs": []
    },
    {
      "cell_type": "code",
      "metadata": {
        "colab": {
          "base_uri": "https://localhost:8080/"
        },
        "id": "cNNZ6tvDOk9r",
        "outputId": "75c10fcd-af1f-41ff-f1a3-aa462b4d834f"
      },
      "source": [
        "# download cifar10\n",
        "(x_train, y_train), (x_test, y_test) = tf.keras.datasets.cifar10.load_data()\n",
        "x_train, x_test = x_train / 255.0, x_test / 255.0\n",
        "y_train = tf.keras.utils.to_categorical(y_train)"
      ],
      "execution_count": 2,
      "outputs": [
        {
          "output_type": "stream",
          "text": [
            "Downloading data from https://www.cs.toronto.edu/~kriz/cifar-10-python.tar.gz\n",
            "170500096/170498071 [==============================] - 58s 0us/step\n"
          ],
          "name": "stdout"
        }
      ]
    },
    {
      "cell_type": "markdown",
      "metadata": {
        "id": "PVcKElilO3Xe"
      },
      "source": [
        "- create new layer in tf"
      ]
    },
    {
      "cell_type": "code",
      "metadata": {
        "id": "YEtoxYBoO0bI"
      },
      "source": [
        "# new layer\n",
        "class ResBlock(tf.keras.layers.Layer):\n",
        "    def __init__(self):\n",
        "        super(ResBlock, self).__init__()\n",
        "        self.c1 = layers.Conv2D(32, (3, 3), activation='relu', padding='same')\n",
        "        self.c2 = layers.Conv2D(32, (3, 3), activation='relu', padding='same')\n",
        "\n",
        "    # forward step\n",
        "    def call(self, inputs):\n",
        "        x1 = self.c1(inputs)\n",
        "        x2 = self.c2(x1+inputs)\n",
        "        return x2"
      ],
      "execution_count": 3,
      "outputs": []
    },
    {
      "cell_type": "markdown",
      "metadata": {
        "id": "ZS1KBjAAPFzS"
      },
      "source": [
        "- create new model in tf\n",
        "- you need to override the `train_step` function"
      ]
    },
    {
      "cell_type": "code",
      "metadata": {
        "id": "bz3IEP0vNkjI"
      },
      "source": [
        "# new model model\n",
        "class Resnet18(tf.keras.Model):\n",
        "    def __init__(self, n_class=10):\n",
        "        super(Resnet18, self).__init__()\n",
        "        self.first_conv = layers.Conv2D(32, (3, 3), activation='relu', padding='same')\n",
        "        self.blocks = tf.keras.Sequential([ResBlock(), ResBlock()])\n",
        "        self.faltten = layers.Flatten()\n",
        "        self.fc = layers.Dense(n_class, activation='softmax')\n",
        "    \n",
        "    # forward step\n",
        "    def call(self, x):\n",
        "        x = self.first_conv(x)\n",
        "        x = self.blocks(x)\n",
        "        x = self.fc(self.faltten(x))\n",
        "        return x\n",
        "    \n",
        "    # one batch train\n",
        "    def train_step(self, data):\n",
        "        x, y = data\n",
        "        with tf.GradientTape() as tape:\n",
        "            y_pred = self(x, training=True)\n",
        "            loss = self.compiled_loss(y, y_pred, regularization_losses=self.losses)\n",
        "\n",
        "        gradients = tape.gradient(loss, self.trainable_variables)\n",
        "        self.optimizer.apply_gradients(zip(gradients, self.trainable_variables))\n",
        "        self.compiled_metrics.update_state(y, y_pred)\n",
        "        return {m.name: m.result() for m in self.metrics}\n",
        "    \n",
        "    # one batch test\n",
        "    def test_step(self, data):\n",
        "        x, y = data\n",
        "        y_pred = self(x, training=False)\n",
        "        self.compiled_loss(y, y_pred, regularization_losses=self.losses)\n",
        "        self.compiled_metrics.update_state(y, y_pred)\n",
        "        return {m.name: m.result() for m in self.metrics}\n",
        "\n",
        "    # other usful functions\n",
        "    def compile(self): pass\n",
        "    def metrics(self): pass"
      ],
      "execution_count": 4,
      "outputs": []
    },
    {
      "cell_type": "markdown",
      "metadata": {
        "id": "aoa1w9YWSWU1"
      },
      "source": [
        "- training"
      ]
    },
    {
      "cell_type": "code",
      "metadata": {
        "colab": {
          "base_uri": "https://localhost:8080/"
        },
        "id": "O2SBOavdSYs4",
        "outputId": "89c76e3b-a0a4-4a9b-eed7-21ae80f66d08"
      },
      "source": [
        "model = Resnet18()\n",
        "model.compile(optimizer='adam', loss='categorical_crossentropy', metrics=['accuracy'])\n",
        "H = model.fit(x_train, y_train, epochs=5, batch_size=64)"
      ],
      "execution_count": 5,
      "outputs": [
        {
          "output_type": "stream",
          "text": [
            "Epoch 1/5\n",
            "782/782 [==============================] - 427s 545ms/step - loss: 1.6727 - accuracy: 0.4035\n",
            "Epoch 2/5\n",
            "782/782 [==============================] - 415s 531ms/step - loss: 1.0652 - accuracy: 0.6288\n",
            "Epoch 3/5\n",
            "782/782 [==============================] - 415s 531ms/step - loss: 0.8133 - accuracy: 0.7210\n",
            "Epoch 4/5\n",
            "782/782 [==============================] - 417s 533ms/step - loss: 0.6389 - accuracy: 0.7817\n",
            "Epoch 5/5\n",
            "782/782 [==============================] - 417s 534ms/step - loss: 0.4888 - accuracy: 0.8329\n"
          ],
          "name": "stdout"
        }
      ]
    },
    {
      "cell_type": "markdown",
      "metadata": {
        "id": "1pxnj6mkXrYb"
      },
      "source": [
        "## Template\n",
        "- you don't have to write your training loop from scrach"
      ]
    },
    {
      "cell_type": "code",
      "metadata": {
        "id": "20a-2NSjXtO6"
      },
      "source": [
        "import tenserflow as tf\n",
        "\n",
        "class Learner(tf.keras.Model):\n",
        "    def train_step(self, data):\n",
        "        # you have anything that passed to tf.Data\n",
        "        x, y = data\n",
        "        with tf.GradientTape() as tape:\n",
        "            y_pred = self(x, training=True)\n",
        "            loss = self.compiled_loss(y, y_pred, regularization_losses=self.losses)\n",
        "\n",
        "        # often you don't change the rest\n",
        "        gradients = tape.gradient(loss, self.trainable_variables)\n",
        "        self.optimizer.apply_gradients(zip(gradients, self.trainable_variables))\n",
        "        self.compiled_metrics.update_state(y, y_pred)\n",
        "        return {m.name: m.result() for m in self.metrics}\n",
        "\n",
        "    def test_step(self, data):\n",
        "        x, y = data\n",
        "        y_pred = self(x, training=False)\n",
        "        self.compiled_loss(y, y_pred, regularization_losses=self.losses)\n",
        "        self.compiled_metrics.update_state(y, y_pred)\n",
        "        return {m.name: m.result() for m in self.metrics}\n",
        "    \n",
        "    def predict_step(self, x):  pass\n",
        "\n",
        "\n",
        "model = # builded model(Sequential, Functional, Application, Model-Subclassing)\n",
        "learner = Learner(model.inputs, model.outputs)\n",
        "learner.compile(optimizer=, loss=, metrics=) # compile model\n",
        "learner.fit() # enjoy the abilitis of keras.fit :)"
      ],
      "execution_count": null,
      "outputs": []
    }
  ]
}
