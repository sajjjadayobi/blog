{
 "cells": [
  {
   "cell_type": "markdown",
   "metadata": {
    "id": "HkK1QqCbtK02"
   },
   "source": [
    "# A little Framework on Top of PyTorch\n",
    "> for learning how Keras, Lightning & Fastai work\n",
    "- toc: true\n",
    "- branch: master\n",
    "- badges: true\n",
    "- image: images/narm.png\n",
    "- comments: true\n",
    "- author: Sajjad Ayoubi\n",
    "- categories: [implementation]"
   ]
  },
  {
   "cell_type": "markdown",
   "metadata": {
    "id": "UHLxBFWR9CsB"
   },
   "source": [
    "## inspiration\n",
    "\n",
    "- one month ago I was thinking about frameworks like Keras, Lightning & Fastai\n",
    "  - these are on top of main frameworks like Tensorflow & PyTorch\n",
    "- I found that the implementation is best for finding out `How`\n",
    "- this was my inspiration\n",
    "  - I looked to lighting and Keras \n",
    "  - and try to choose the best part from those\n",
    "- the implementation is on `PyTorch`\n",
    "- you can look at this and write your one little FrameWork\n",
    "- I can't and don't want to create something like Keras from scratch\n",
    "  - the main thing in these frameworks are **Training Loop** and **Callbacks**\n",
    "  - we go through to implement these\n",
    "\n",
    "- it was a little challenge for my weekend\n",
    "  - I learned much from this project\n",
    "  - and now I know that what Keras and Lightning does\n",
    "  - the best thing that I learned was\n",
    "    - the source code is the King !!!\n",
    "  "
   ]
  },
  {
   "cell_type": "markdown",
   "metadata": {
    "id": "87XITB1nd4YK"
   },
   "source": [
    "## Impelementation"
   ]
  },
  {
   "cell_type": "markdown",
   "metadata": {
    "id": "BwXQwtgo9Y3-"
   },
   "source": [
    "- first of all, we need to add some basic stuff"
   ]
  },
  {
   "cell_type": "code",
   "execution_count": 2,
   "metadata": {
    "id": "pVOqSo6M9YBG"
   },
   "outputs": [],
   "source": [
    "import time, sys, gc\n",
    "from copy import deepcopy\n",
    "import matplotlib.pylab as plt\n",
    "import numpy as np\n",
    "\n",
    "import torch\n",
    "import torch.nn as nn\n",
    "from torchvision import datasets, transforms\n",
    "from torch.nn.utils import clip_grad_norm_\n",
    "from torch.utils.data import DataLoader\n",
    "from torch.cuda.amp import autocast, GradScaler"
   ]
  },
  {
   "cell_type": "markdown",
   "metadata": {
    "id": "jCMpAu72d_kx"
   },
   "source": [
    "### Trainer\n",
    "the most important thing is Training Loop\n",
    "\n",
    "Model.fit in Keras, trainer in lighting\n",
    "- I wanna create a Trainer class that gives some stuff like:\n",
    "    - Model, training dataset, optimizer, and loss function\n",
    "    - and does fit functionality like Sklearn and Keras"
   ]
  },
  {
   "cell_type": "markdown",
   "metadata": {
    "id": "ll8z5Sf9eqHg"
   },
   "source": [
    "the `__init__` function is huge "
   ]
  },
  {
   "cell_type": "code",
   "execution_count": null,
   "metadata": {
    "id": "tucrG3pM9lu9"
   },
   "outputs": [],
   "source": [
    "class Trainer:\n",
    "\n",
    "    def __init__(self, model, train_ds, valid_ds, optimizer, loss, \n",
    "                 train_bs=32, valid_bs=32, scheduler=None, scheduler_type='epoch', \n",
    "                 metrcis=[], workers=4, fp16=False, grad_clip_value='inf'):\n",
    "        \n",
    "        \"\"\"\n",
    "        Args:\n",
    "          model: your model that you want to train (nn.Moudle)\n",
    "          train_ds: any DataStructer that works with torch.Dataloder (DataSet, list, ...)\n",
    "          optimizer: nn.optim\n",
    "          loss: nn.losses or any function\n",
    "          train_bs: training batch size (int)\n",
    "          valid_bs: validation batch size (int)\n",
    "          scheduler: torch.optim.lr_scheduler\n",
    "          metrics: a list of function for custom matrix (list)\n",
    "          scheduler_type: scheduler stratigy ('epoch', 'batch')\n",
    "          grad_clip_value: value for gradient cilipping (int or 'inf')\n",
    "          workers: num workers in dataloders (int)\n",
    "          fp16: automatic mixed percision training (bool)\n",
    "        \n",
    "        Params:\n",
    "          params: a dict for saving details like (loss, step number, epoch number, ...)\n",
    "          stop_training: a bool for stopping training proccess \n",
    "        \"\"\"\n",
    "        self.model = model\n",
    "        self.optimizer = optimizer\n",
    "        self.scheduler = scheduler\n",
    "        self.scheduler_type = scheduler_type\n",
    "        self.loss = loss\n",
    "        self.metrcis = metrcis\n",
    "        self.grad_clip_value = grad_clip_value\n",
    "        self.fp16 = fp16\n",
    "        self.scaler = GradScaler(enabled=fp16)\n",
    "        self.workers = workers\n",
    "        self.stop_training = False\n",
    "        self.train_bs = train_bs\n",
    "        self.valid_bs = valid_bs\n",
    "        self.train_ds = train_ds\n",
    "        self.valid_ds = valid_ds \n",
    "        self.train_dl = self.get_train_dataloder()\n",
    "        self.params = {'train_steps': len(self.train_dl)}\n",
    "        if valid_ds==None:\n",
    "            self.valid_dl = None\n",
    "        else:\n",
    "            self.valid_dl = self.get_valid_dataloder()\n",
    "            self.params['valid_steps'] = len(self.valid_dl)"
   ]
  },
  {
   "cell_type": "markdown",
   "metadata": {
    "id": "hrXk7beFBKlu"
   },
   "source": [
    "- the first functionality of Trainer is to Create DataLoader from datasets"
   ]
  },
  {
   "cell_type": "code",
   "execution_count": null,
   "metadata": {
    "id": "OP_YTOw7BTez"
   },
   "outputs": [],
   "source": [
    "    def get_train_dataloder(self):\n",
    "        # create a DataLoder for train \n",
    "        return DataLoader(self.train_ds, batch_size=self.train_bs, shuffle=True, num_workers=self.workers)      \n",
    "      \n",
    "    def get_valid_dataloder(self): \n",
    "        # create a DataLoder for valid\n",
    "        return DataLoader(self.valid_ds, batch_size=self.valid_bs, shuffle=False, num_workers=self.workers)"
   ]
  },
  {
   "cell_type": "markdown",
   "metadata": {
    "id": "1-kcoFRaCXcf"
   },
   "source": [
    "- the advantage of this implementation is you can override these functions\n",
    "- see the following example"
   ]
  },
  {
   "cell_type": "code",
   "execution_count": null,
   "metadata": {
    "id": "mKI-jCQIBtxc"
   },
   "outputs": [],
   "source": [
    "class CustomTrainer(Trainer):\n",
    "    def get_train_dataloder(self):\n",
    "      # I override this and change the shuffle to False\n",
    "      return DataLoader(self.train_ds, batch_size=self.train_bs, shuffle=False, num_workers=self.workers)   "
   ]
  },
  {
   "cell_type": "markdown",
   "metadata": {
    "id": "HQXP_sQkC-sE"
   },
   "source": [
    "- `fit` function"
   ]
  },
  {
   "cell_type": "code",
   "execution_count": null,
   "metadata": {
    "id": "tDZcmhMzDENq"
   },
   "outputs": [],
   "source": [
    "    def fit(self, epochs=1, device='cuda', callbacks=[]):\n",
    "        \"\"\"\n",
    "        it trains your nn for any epochs that you want\n",
    "        \n",
    "        Args:\n",
    "            epochs: number of epochs for training (int)\n",
    "            device: running device (torch.device)\n",
    "            callbacks: list of callbacks that you want (list)\n",
    "        \"\"\"\n",
    "        # set params\n",
    "        if self.stop_training: return\n",
    "        self.params['epochs'] = epochs\n",
    "        self.change_device(device)\n",
    "        self.state = CallbackRunner(callbacks, trainer=self)\n",
    "        self.state.on_train_start\n",
    "        # start train and valid epoch\n",
    "        for epoch in range(1, epochs+1):\n",
    "            self.params['epoch'] = epoch\n",
    "            self.state.on_epoch_start\n",
    "            # train\n",
    "            self.state.on_train_epoch_start\n",
    "            self.train_epoch() # train_for_one_epoch_on_train_dl\n",
    "            self.state.on_train_epoch_end\n",
    "            # schedule the learning rate\n",
    "            if self.scheduler != None and self.scheduler_type == 'epoch':\n",
    "                self.scheduler.step()\n",
    "            # valid\n",
    "            if self.valid_dl!=None:\n",
    "                self.state.on_valid_epoch_start\n",
    "                self.valid_epoch() # train_for_one_epoch_on_valid_dl\n",
    "                self.state.on_valid_epoch_end    \n",
    "              \n",
    "            self.state.on_epoch_end\n",
    "            if self.stop_training: \n",
    "                break\n",
    "        self.state.on_train_end"
   ]
  },
  {
   "cell_type": "markdown",
   "metadata": {
    "id": "3Ju2UTl4GReC"
   },
   "source": [
    "- one of the utils is\n",
    "    - `change_device` function for simply changing device at the start of training\n"
   ]
  },
  {
   "cell_type": "code",
   "execution_count": null,
   "metadata": {
    "id": "h-8Xy6QoGX1T"
   },
   "outputs": [],
   "source": [
    "    def change_device(self, device='cuda'):\n",
    "        \"\"\" change device of (model, loss, optimizer)\n",
    "        Args:\n",
    "            device: running device (torch.device)\n",
    "        \"\"\"\n",
    "        # save device to self\n",
    "        self.device = device\n",
    "        self.model.to(device)\n",
    "        self.loss.to(device)\n",
    "        self.optimizer.load_state_dict(self.optimizer.state_dict())"
   ]
  },
  {
   "cell_type": "markdown",
   "metadata": {
    "id": "1OkqX8NGFc2M"
   },
   "source": [
    "- now we need a `train_epoch` function\n",
    "  - train model with train dataloder for one epoch\n",
    "  - we save all things with `self.prarms`\n",
    "- Keras and Lightning also can train on TPUs and has distrubuted training\n",
    "  - plus some other features\n",
    "  \n",
    "- now we need a train_epoch function\n",
    "    - train model with train Dataloader for one epoch\n",
    "    - we save all things with self.prarms\n",
    "- Keras and Lightning also can train on TPUs and has distributed training\n",
    "    - plus some other features"
   ]
  },
  {
   "cell_type": "code",
   "execution_count": null,
   "metadata": {
    "id": "VF8j_P70FiUo"
   },
   "outputs": [],
   "source": [
    "    def train_epoch(self):\n",
    "        \"\"\"\n",
    "        train the model for one epoch, it has:\n",
    "          callbacks state changer\n",
    "          device change for batch\n",
    "          autocast for mixed percision\n",
    "          backward \n",
    "          params saver\n",
    "        \"\"\"\n",
    "        self.model.train()\n",
    "        for step, batch in enumerate(self.train_dl, 0):\n",
    "          self.params['step'] = step\n",
    "          self.optimizer.zero_grad()\n",
    "          # set device for this batch\n",
    "          batch = [item.to(self.device) for item in batch]\n",
    "          self.params['batch'] = batch\n",
    "          self.state.on_train_batch_start\n",
    "\n",
    "          if self.device == 'cuda': # GPU + FP16\n",
    "              with autocast(enabled=self.fp16):\n",
    "                  loss, metrics = self.train_step(batch) # train_for_one_batch\n",
    "              # bawkward + gradient_cliping\n",
    "              self.backward_step(loss)\n",
    "              #  schedule_lr\n",
    "              if self.scheduler != None and self.scheduler_type == 'batch':\n",
    "                  self.scaler.step(self.scheduler)\n",
    "              self.scaler.update()\n",
    "\n",
    "          else: # like the above but on CPU\n",
    "              loss, metrics = self.train_step(batch)\n",
    "              self.backward_step(loss)\n",
    "              if self.scheduler != None and self.scheduler_type == 'batch':\n",
    "                  self.scheduler.step()\n",
    "\n",
    "          # save stats\n",
    "          self.params['loss'] = loss\n",
    "          self.params['metrics'] = metrics\n",
    "          self.state.on_train_batch_end\n",
    "          if self.stop_training: \n",
    "              break"
   ]
  },
  {
   "cell_type": "markdown",
   "metadata": {},
   "source": [
    "- `backward_step` is normally the same except for things like GANs"
   ]
  },
  {
   "cell_type": "code",
   "execution_count": null,
   "metadata": {},
   "outputs": [],
   "source": [
    "    def backward_step(self, loss):\n",
    "        if self.device == 'cuda':\n",
    "            self.scaler.scale(loss).backward()\n",
    "            clip_grad_norm_(self.model.parameters(), self.grad_clip_value)\n",
    "            self.scaler.step(self.optimizer)\n",
    "        else:\n",
    "            loss.backward()\n",
    "            clip_grad_norm_(self.model.parameters(), self.grad_clip_value)\n",
    "            self.optimizer.step()       "
   ]
  },
  {
   "cell_type": "markdown",
   "metadata": {
    "id": "A2YFFGmSHxaW"
   },
   "source": [
    "- we have the same function for validation"
   ]
  },
  {
   "cell_type": "code",
   "execution_count": null,
   "metadata": {
    "id": "ogZszo-GH2FK"
   },
   "outputs": [],
   "source": [
    "    def valid_epoch(self):\n",
    "      \"\"\"\n",
    "      train model for one epoch on valid_ds, it has:\n",
    "          callbacks state changer\n",
    "          device change for batch\n",
    "          autocast for mixed percision\n",
    "          params saver\n",
    "      \"\"\"\n",
    "        self.model.eval()\n",
    "        with torch.no_grad():\n",
    "            for step, batch in enumerate(self.valid_dl, 0):\n",
    "              self.params['step'] = step\n",
    "              batch = [item.to(self.device) for item in batch]\n",
    "              self.params['batch'] = batch\n",
    "              self.state.on_valid_batch_start\n",
    "\n",
    "              if self.device == 'cuda': # GPU + FP16\n",
    "                  with autocast(enabled=self.fp16):\n",
    "                      self.params['loss'], self.params['metrics'] = self.valid_step(batch) # train_for_one_step\n",
    "              else: # CPU\n",
    "                self.params['loss'], self.params['metrics'] = self.valid_step(batch)\n",
    "              \n",
    "              self.state.on_valid_batch_end\n",
    "              if self.stop_training: \n",
    "                break"
   ]
  },
  {
   "cell_type": "markdown",
   "metadata": {
    "id": "yd_6kzCPIPLV"
   },
   "source": [
    "- now we need normal `train_step` & `valid_step`\n",
    "    - these function gave a batch of data and do one train step on it\n",
    "    - Keras & Lightning have the same"
   ]
  },
  {
   "cell_type": "code",
   "execution_count": null,
   "metadata": {
    "id": "FVMWKwqfIW4Y"
   },
   "outputs": [],
   "source": [
    "    def train_step(self, batch):\n",
    "        \"\"\" train on one batch and compute metrics\n",
    "        Args:\n",
    "            batch: training batch (From Dataloder)\n",
    "        Returns:\n",
    "            loss: any loss that you compute\n",
    "            metrics: come from compute_metrics function\n",
    "        \"\"\"\n",
    "        x, y = batch\n",
    "        out = self.model(x)\n",
    "        loss = self.loss(out, y)\n",
    "        metrcis = self.compute_metrics(out, y)\n",
    "        return loss, metrcis\n",
    "\n",
    "    def valid_step(self, batch):\n",
    "        \"\"\" train on one batch of valid and compute metrics\n",
    "        Args:\n",
    "            batch: training batch (From Dataloder)\n",
    "        Returns:\n",
    "            loss: any loss that you compute\n",
    "            metrics: come from compute_metrics function\n",
    "        \"\"\"\n",
    "        x, y = batch\n",
    "        out = self.model(x)\n",
    "        loss = self.loss(out, y)\n",
    "        metrcis = self.compute_metrics(out, y)\n",
    "        return loss, metrcis"
   ]
  },
  {
   "cell_type": "markdown",
   "metadata": {
    "id": "SJgB5kf2IsDc"
   },
   "source": [
    "the main advantage is you can Override `train_step` & `valid_step`\n",
    "  - and create your own `Trainer`\n",
    "  - just like `Keras SubClassing` and `pl.LightningModule`\n",
    "- see the following example"
   ]
  },
  {
   "cell_type": "code",
   "execution_count": null,
   "metadata": {
    "id": "7bA9bmWoI28k"
   },
   "outputs": [],
   "source": [
    "class AutoEncoderTrainer(Trainer):\n",
    "    def train_step(self, batch):\n",
    "        x, _ = batch # we don't need y for AEs\n",
    "        out = self.model(x)\n",
    "        loss = self.loss(out, x) # compute reconstraction loss\n",
    "        metrcis = self.compute_metrics(out, y)\n",
    "        return loss, metrcis"
   ]
  },
  {
   "cell_type": "markdown",
   "metadata": {
    "id": "CfYivL9bKAp5"
   },
   "source": [
    "- the second utils function is \n",
    "- `compute_metrics`:\n",
    "  - for computing all metrics that you pass to Trainer\n",
    "  - it saves those in a dict with name"
   ]
  },
  {
   "cell_type": "code",
   "execution_count": null,
   "metadata": {
    "id": "gq-kgHmFKBVs"
   },
   "outputs": [],
   "source": [
    "    def compute_metrics(self, pred, y):\n",
    "      \"\"\" Compute metrics that you passed in __init__\n",
    "      Args:\n",
    "          pred: prediction of the model\n",
    "          y: gronth truth\n",
    "      Returns:\n",
    "        res: a dict{metrics_name: result}\n",
    "      \"\"\"\n",
    "      res = {}\n",
    "      for f in self.metrcis:\n",
    "        # use name of that functin for Logging\n",
    "        res[f.__name__] = f(pred, y).item()\n",
    "      return res"
   ]
  },
  {
   "cell_type": "markdown",
   "metadata": {
    "id": "WYkmgmMLkimZ"
   },
   "source": [
    "- now we have a really simple training that can work with these:\n",
    "  - metrics \n",
    "  - callbacks\n",
    "  - cpu, cuda\n",
    "  - fp16, fp32\n",
    "  - gradient cillping\n",
    "  - ..."
   ]
  },
  {
   "cell_type": "markdown",
   "metadata": {
    "id": "1Ct-e-x3kgZt"
   },
   "source": [
    "## CallBacks\n",
    "- the second important thing in frameworks is Callbacks\n",
    "- with the concept of callback, we can add anything that we want without\n",
    "    - changing the training process\n",
    "    - or any knowledge from Trainer\n",
    "- I think the callbacks are really great\n",
    "    - you can test new ideas (for example Adaptive Gradient Clipping)\n",
    "    - just with creating a Custom Callback and adding it to fit\n"
   ]
  },
  {
   "cell_type": "markdown",
   "metadata": {
    "id": "rf3XFFV9LAw7"
   },
   "source": [
    "- we need a Basic callback class\n",
    "  - we can override from this"
   ]
  },
  {
   "cell_type": "code",
   "execution_count": null,
   "metadata": {
    "id": "mtdu7bstLli7"
   },
   "outputs": [],
   "source": [
    "# Basic Class\n",
    "class Callback():\n",
    "    \"\"\" Base class for creating callbacks:\n",
    "          with self in this class and its child\n",
    "          you can access to all property from Trainer\n",
    "    \"\"\"\n",
    "    def set_trainer(self, trainer):\n",
    "        # get trainer object\n",
    "        self.trainer = trainer\n",
    "\n",
    "    def __getattr__(self, attr):\n",
    "        return getattr(self.trainer, attr)\n",
    "\n",
    "    # fit\n",
    "    def on_train_start(self): pass\n",
    "    def on_train_end(self): pass\n",
    "    def on_epoch_start(self): pass\n",
    "    def on_epoch_end(self): pass\n",
    "    # train\n",
    "    def on_train_epoch_start(self): pass\n",
    "    def on_train_epoch_end(self): pass\n",
    "    def on_train_batch_start(self): pass\n",
    "    def on_train_batch_end(self): pass\n",
    "    # valid\n",
    "    def on_valid_epoch_start(self): pass\n",
    "    def on_valid_epoch_end(self): pass\n",
    "    def on_valid_batch_start(self): pass\n",
    "    def on_valid_batch_end(self): pass\n",
    "    def on_valid_step_start(self): pass\n",
    "    def on_valid_step_end(self): pass"
   ]
  },
  {
   "cell_type": "markdown",
   "metadata": {
    "id": "jQ0ZlgpSMKOv"
   },
   "source": [
    "- we need a CallBack Handler\n",
    "  - it gives a list of callbacks and runs all of them\n",
    "  - in each state like `on_train_start`\n",
    "  - and it has some `default_callbacks`"
   ]
  },
  {
   "cell_type": "code",
   "execution_count": null,
   "metadata": {
    "id": "PItIw3s3MWDl"
   },
   "outputs": [],
   "source": [
    "class CallbackRunner():\n",
    "    # callbacks runner (with default_callbacks)\n",
    "    def __init__(self, callbacks, trainer):\n",
    "        \"\"\"\n",
    "        Args:\n",
    "          callbacks: list of callbacks (list)\n",
    "          trainer: trainer object (Trainer)\n",
    "        \"\"\"\n",
    "        # set StatsAvg, Reporter callbacks to default_callbacks\n",
    "        default_callbacks = [StatsAvg(), Reporter(after_step=1)]\n",
    "        self.callbacks = default_callbacks + callbacks\n",
    "        for cb in self.callbacks:\n",
    "          # set trainer object to all callbacks\n",
    "          cb.set_trainer(trainer)\n",
    "\n",
    "    # run all state with one function\n",
    "    def __getattr__(self, attr):\n",
    "        for cb in self.callbacks:\n",
    "          getattr(cb, attr)()\n",
    "        return None"
   ]
  },
  {
   "cell_type": "markdown",
   "metadata": {
    "id": "fBlNpLZqOLb5"
   },
   "source": [
    "- StatsAvg is the most important callbacks that we need\n",
    "    - it keeps track of metrics and loss and computes the average of them"
   ]
  },
  {
   "cell_type": "code",
   "execution_count": null,
   "metadata": {
    "id": "z2FxsnW9OMHQ"
   },
   "outputs": [],
   "source": [
    "class StatsAvg(Callback):\n",
    "  # inner class for computing AVG with mommentom  \n",
    "  class AvgRunner():\n",
    "    def __init__(self, mom=None):\n",
    "        self.val, self.avg, self.sum, self.count = 0, 0, 0, 0\n",
    "\n",
    "    def update(self, val, step=1):\n",
    "        self.val = val\n",
    "        self.sum += val * step\n",
    "        self.count += step\n",
    "        self.avg = self.sum / self.count\n",
    "\n",
    "  # helper functions\n",
    "  def __init__(self, mom=None):\n",
    "      self.mom = mom\n",
    "\n",
    "  def update_all(self, items, step):\n",
    "      for avg, item in zip(self.metrcis_runners, items):\n",
    "          avg.update(item, step)\n",
    "\n",
    "  def get_avgs(self, names):\n",
    "      return {n:a.avg for a, n in zip(self.metrcis_runners, names)}\n",
    "  \n",
    "\n",
    "  # valid section\n",
    "  def on_valid_epoch_start(self):\n",
    "    self.metrcis_runners = [self.AvgRunner(self.mom) for i in range(len(self.metrcis))]\n",
    "    self.loss_runner = self.AvgRunner(self.mom)\n",
    "\n",
    "  def on_valid_batch_end(self):\n",
    "    self.loss_runner.update(self.params['loss'].item(), self.valid_bs)\n",
    "    self.params['loss'] = self.loss_runner.avg\n",
    "    self.update_all(self.params['metrics'].values(), self.valid_bs)\n",
    "    self.params['metrics'] = self.get_avgs(self.params['metrics'].keys()) \n",
    "        \n",
    "  def on_valid_epoch_end(self):\n",
    "    del self.metrcis_runners\n",
    "    del self.loss_runner\n",
    "\n",
    "  # train section\n",
    "  def on_train_epoch_start(self):\n",
    "    self.metrcis_runners = [self.AvgRunner(self.mom) for i in range(len(self.metrcis))]\n",
    "    self.loss_runner = self.AvgRunner(self.mom)\n",
    "\n",
    "  def on_train_batch_end(self):\n",
    "    self.loss_runner.update(self.params['loss'].item(), self.train_bs)\n",
    "    self.params['loss'] = self.loss_runner.avg\n",
    "    self.update_all(self.params['metrics'].values(), self.train_bs)\n",
    "    self.params['metrics'] = self.get_avgs(self.params['metrics'].keys())     \n",
    "\n",
    "  def on_train_epoch_end(self):\n",
    "    del self.metrcis_runners\n",
    "    del self.loss_runner"
   ]
  },
  {
   "cell_type": "markdown",
   "metadata": {
    "id": "89zouMUtPBEK"
   },
   "source": [
    "- after having the AvgStats we need a Reporter\n",
    "    - for printing stats like loss and metrics during training\n",
    "- in creating callbacks order is really important"
   ]
  },
  {
   "cell_type": "code",
   "execution_count": null,
   "metadata": {
    "id": "w32V-nyFPKsD"
   },
   "outputs": [],
   "source": [
    "class Reporter(Callback):\n",
    "    def __init__(self, after_step=1):\n",
    "        self.after_step = after_step\n",
    "\n",
    "    def show(self, phase='train'):\n",
    "        report = '   loss: ' + str(round(self.params['loss'], 4))\n",
    "        report += '  ' + str('   ').join([f\"{k}: {round(v, 3)}\" for k, v in self.params['metrics'].items()])\n",
    "        sys.stdout.write(f\"\\r {phase}_steps: {self.params['step']+1}/{self.params[f'{phase}_steps']}\" + report)\n",
    "        sys.stdout.flush()\n",
    "    \n",
    "    def on_valid_epoch_end(self): \n",
    "        print('', end='\\n') \n",
    "\n",
    "    def on_valid_batch_end(self): \n",
    "        if self.params['step']%self.after_step==0:\n",
    "            self.show('valid')\n",
    "\n",
    "    def on_train_batch_end(self):\n",
    "        if self.params['step']%self.after_step==0:\n",
    "            self.show('train')\n",
    "\n",
    "    def on_train_epoch_start(self): \n",
    "        print('\\n Epoch %2d/%2d' % (self.params['epoch'], self.params['epochs']))\n",
    "        print('-' * 75)\n",
    "        self.t0 = time.time()\n",
    "\n",
    "    def on_train_epoch_end(self):\n",
    "        t1 = time.time() - self.t0\n",
    "        print('  time: %.0fm %.0fs' % (t1//60, t1%60))"
   ]
  },
  {
   "cell_type": "markdown",
   "metadata": {
    "id": "nB51IugtPvyD"
   },
   "source": [
    "- so far we saw default callbacks but\n",
    "  - we can create any callbacks that we want\n",
    "- look at the following\n",
    "  - a new callback for learning rate finding\n",
    "  - it's a child of `Callback` Class"
   ]
  },
  {
   "cell_type": "code",
   "execution_count": null,
   "metadata": {
    "id": "eGpsZp1oQBn4"
   },
   "outputs": [],
   "source": [
    "class LRFinder(Callback):\n",
    "    def __init__(self, min_lr=1e-6, max_lr=5e-1, mom=0.9, update_steps=1):\n",
    "        self.min_lr = min_lr\n",
    "        self.max_lr = max_lr\n",
    "        self.mom = mom # Make loss smoother using momentum\n",
    "        self.update_steps = update_steps # update lr after X batch\n",
    "                \n",
    "    def on_train_start(self):\n",
    "        n_iter = self.params['train_steps']*self.params['epochs']    \n",
    "        self.learning_rates = np.geomspace(self.min_lr, self.max_lr, num=n_iter//self.update_steps+1)\n",
    "        self.losses = []\n",
    "        self.best_loss = 0\n",
    "\n",
    "    def on_train_batch_end(self):\n",
    "        # in callbacks we have access to all params from Trainer\n",
    "        loss = self.params['loss']\n",
    "        step = self.params['step']\n",
    "        if step!=0:\n",
    "            loss = self.losses[-1]*self.mom+loss*(1-self.mom)\n",
    "        if step==0 or loss < self.best_loss: \n",
    "            self.best_loss = loss\n",
    "        if step%self.update_steps==0:\n",
    "            self.losses.append(loss)            \n",
    "            # update lr\n",
    "            lr = self.learning_rates[step//self.update_steps]            \n",
    "            self.optimizer.param_groups[0]['lr'] = lr\n",
    "\n",
    "        # Stop criteria\n",
    "        if loss > self.best_loss*1.1:\n",
    "            self.trainer.stop_training = True         \n",
    "            \n",
    "    def on_train_end(self): \n",
    "        print('\\n')\n",
    "        plt.figure(dpi=80)\n",
    "        plt.plot(self.learning_rates[:len(self.losses)], self.losses)\n",
    "        plt.title(f'I think we find it: {min(self.losses)/10}')\n",
    "        plt.xlabel(\"Learning Rate\")\n",
    "        plt.ylabel(\"Loss\")\n",
    "        plt.xscale('log')\n",
    "        plt.show()"
   ]
  },
  {
   "cell_type": "markdown",
   "metadata": {
    "id": "-iRio9E8QlzM"
   },
   "source": [
    "### Test: MNIST Classification\n",
    "- now it's ready to use"
   ]
  },
  {
   "cell_type": "code",
   "execution_count": null,
   "metadata": {
    "id": "eCqrJhsNR1br"
   },
   "outputs": [],
   "source": [
    "transform = transforms.Compose([transforms.ToTensor(), transforms.Normalize((0), (255))])\n",
    "train_ds = datasets.MNIST(root='./data', train=True, download=True, transform=transform)\n",
    "test_ds = datasets.MNIST(root='./data', train=False, download=True, transform=transform)"
   ]
  },
  {
   "cell_type": "markdown",
   "metadata": {
    "id": "7VQMSi1tSfkn"
   },
   "source": [
    "- you can write any custom function for metrics"
   ]
  },
  {
   "cell_type": "code",
   "execution_count": null,
   "metadata": {
    "id": "ZehVpZ6XSIFc"
   },
   "outputs": [],
   "source": [
    "# write your custom metrics\n",
    "def acc(pred, y):\n",
    "    pred = torch.argmax(pred, dim=1)\n",
    "    return torch.mean((pred == y).float())"
   ]
  },
  {
   "cell_type": "markdown",
   "metadata": {
    "id": "_oMm0MfPSZJe"
   },
   "source": [
    "- we create model, loss, optimizer & scheduler"
   ]
  },
  {
   "cell_type": "code",
   "execution_count": null,
   "metadata": {
    "id": "cT8GMwTHSU7T"
   },
   "outputs": [],
   "source": [
    "def compile_model():\n",
    "    model = nn.Sequential(nn.Flatten(), nn.Linear(28*28, 128), nn.ReLU(), nn.Linear(128, 10))\n",
    "    loss = nn.CrossEntropyLoss()\n",
    "    optimizer = torch.optim.AdamW(model.parameters(), lr=0.005, weight_decay=0.0)\n",
    "    scheduler = torch.optim.lr_scheduler.StepLR(optimizer, step_size=1, gamma=.9)\n",
    "    return model, loss, optimizer, scheduler"
   ]
  },
  {
   "cell_type": "markdown",
   "metadata": {
    "id": "yqg-uzj7SohI"
   },
   "source": [
    "- now the create a Trainer object"
   ]
  },
  {
   "cell_type": "code",
   "execution_count": null,
   "metadata": {
    "id": "89Qb4DBRSnLk"
   },
   "outputs": [],
   "source": [
    "model, loss, optimizer, scheduler = compile_model()\n",
    "learner = Trainer(model=model, train_ds=train_ds, optimizer=optimizer, loss=loss, metrcis=[acc])"
   ]
  },
  {
   "cell_type": "markdown",
   "metadata": {
    "id": "LPRPpIbaTXoh"
   },
   "source": [
    "- we need to create `lr_finder`\n",
    "- and train it just for one epoch\n",
    "  - you can see the acc right!!! \n",
    "  - and lr_finder works correctly"
   ]
  },
  {
   "cell_type": "code",
   "execution_count": null,
   "metadata": {
    "colab": {
     "base_uri": "https://localhost:8080/",
     "height": 431
    },
    "executionInfo": {
     "elapsed": 11787,
     "status": "ok",
     "timestamp": 1617631109954,
     "user": {
      "displayName": "Sajjad Ayobi",
      "photoUrl": "",
      "userId": "16298903796317944191"
     },
     "user_tz": -270
    },
    "id": "yAmacE3IS34l",
    "outputId": "f922baf3-1f5a-47ea-e7a4-25f3f19efdd7"
   },
   "outputs": [
    {
     "name": "stdout",
     "output_type": "stream",
     "text": [
      "\n",
      " Epoch  1/ 1\n",
      "---------------------------------------------------------------------------\n",
      " train_steps: 389/469   loss: 2.255  acc: 54.095  time: 0m 10s\n",
      "\n",
      "\n"
     ]
    },
    {
     "data": {
      "image/png": "[encoded data removed]",
      "text/plain": [
       "<Figure size 480x320 with 1 Axes>"
      ]
     },
     "metadata": {
      "needs_background": "light",
      "tags": []
     },
     "output_type": "display_data"
    }
   ],
   "source": [
    "lr_finder = LRFinder(min_lr=1e-5, max_lr=1e1)\n",
    "learner.fit(epochs=1, callbacks=[lr_finder], device='cpu')"
   ]
  },
  {
   "cell_type": "code",
   "execution_count": null,
   "metadata": {
    "colab": {
     "base_uri": "https://localhost:8080/"
    },
    "executionInfo": {
     "elapsed": 25445,
     "status": "ok",
     "timestamp": 1617631363089,
     "user": {
      "displayName": "Sajjad Ayobi",
      "photoUrl": "",
      "userId": "16298903796317944191"
     },
     "user_tz": -270
    },
    "id": "4KcZfEasVKYj",
    "outputId": "76d865aa-b486-4c87-8e77-807945f760ed"
   },
   "outputs": [
    {
     "name": "stdout",
     "output_type": "stream",
     "text": [
      "\n",
      " Epoch  1/ 2\n",
      "---------------------------------------------------------------------------\n",
      " train_steps: 469/469   loss: 0.9052  acc: 0.741  time: 0m 13s\n",
      "\n",
      " Epoch  2/ 2\n",
      "---------------------------------------------------------------------------\n",
      " train_steps: 469/469   loss: 0.3651  acc: 0.897  time: 0m 12s\n"
     ]
    }
   ],
   "source": [
    "learner.fit(epochs=2, device='cpu')"
   ]
  },
  {
   "cell_type": "markdown",
   "metadata": {
    "id": "P9FIuiKdV6Ra"
   },
   "source": [
    "- every thigs is right and now we can create any Trainer\n",
    "  - imagine I want to add a new feature to my Trainer\n",
    "  - the feature is something like `model.summary` in Keras"
   ]
  },
  {
   "cell_type": "code",
   "execution_count": null,
   "metadata": {
    "id": "7HtSbxAbUlYq"
   },
   "outputs": [],
   "source": [
    "from torchsummary import summary\n",
    "\n",
    "class CustomTrainer(Trainer):\n",
    "    def summary(self):\n",
    "        summary(self.model.cpu(), input_size=(self.train_ds[0][0].shape), device='cpu')"
   ]
  },
  {
   "cell_type": "code",
   "execution_count": null,
   "metadata": {
    "colab": {
     "base_uri": "https://localhost:8080/"
    },
    "executionInfo": {
     "elapsed": 1020,
     "status": "ok",
     "timestamp": 1617631760338,
     "user": {
      "displayName": "Sajjad Ayobi",
      "photoUrl": "",
      "userId": "16298903796317944191"
     },
     "user_tz": -270
    },
    "id": "aIt94u2sUsKy",
    "outputId": "bed1567a-b3a4-406a-bef2-cf0a1aaa6be2"
   },
   "outputs": [
    {
     "name": "stdout",
     "output_type": "stream",
     "text": [
      "----------------------------------------------------------------\n",
      "        Layer (type)               Output Shape         Param #\n",
      "================================================================\n",
      "           Flatten-1                  [-1, 784]               0\n",
      "            Linear-2                  [-1, 128]         100,480\n",
      "              GELU-3                  [-1, 128]               0\n",
      "            Linear-4                   [-1, 10]           1,290\n",
      "================================================================\n",
      "Total params: 101,770\n",
      "Trainable params: 101,770\n",
      "Non-trainable params: 0\n",
      "----------------------------------------------------------------\n",
      "Input size (MB): 0.00\n",
      "Forward/backward pass size (MB): 0.01\n",
      "Params size (MB): 0.39\n",
      "Estimated Total Size (MB): 0.40\n",
      "----------------------------------------------------------------\n"
     ]
    }
   ],
   "source": [
    "model, loss, optimizer, scheduler = compile_model()\n",
    "\n",
    "learner = CustomTrainer(model=model, train_ds=train_ds, valid_ds=test_ds, optimizer=optimizer, loss=loss, metrcis=[acc])\n",
    "learner.summary() # new feature"
   ]
  },
  {
   "cell_type": "code",
   "execution_count": null,
   "metadata": {
    "colab": {
     "base_uri": "https://localhost:8080/"
    },
    "executionInfo": {
     "elapsed": 44728,
     "status": "ok",
     "timestamp": 1617631808399,
     "user": {
      "displayName": "Sajjad Ayobi",
      "photoUrl": "",
      "userId": "16298903796317944191"
     },
     "user_tz": -270
    },
    "id": "0YNQPBBWXI79",
    "outputId": "c8d4fef8-b547-4e07-d485-f5e4f71567ad"
   },
   "outputs": [
    {
     "name": "stdout",
     "output_type": "stream",
     "text": [
      "\n",
      " Epoch  1/ 3\n",
      "---------------------------------------------------------------------------\n",
      " train_steps: 469/469   loss: 0.9163  acc: 0.742  time: 0m 12s\n",
      " valid_steps: 157/157   loss: 0.4111  acc: 0.887\n",
      "\n",
      " Epoch  2/ 3\n",
      "---------------------------------------------------------------------------\n",
      " train_steps: 469/469   loss: 0.3669  acc: 0.897  time: 0m 12s\n",
      " valid_steps: 157/157   loss: 0.3186  acc: 0.911\n",
      "\n",
      " Epoch  3/ 3\n",
      "---------------------------------------------------------------------------\n",
      " train_steps: 469/469   loss: 0.3193  acc: 0.909  time: 0m 12s\n",
      " valid_steps: 157/157   loss: 0.2934  acc: 0.915\n"
     ]
    }
   ],
   "source": [
    "learner.fit(epochs=3)"
   ]
  },
  {
   "cell_type": "markdown",
   "metadata": {
    "id": "P-zlcvjlX9-M"
   },
   "source": [
    "- for practice you can add these functions to your Trainer"
   ]
  },
  {
   "cell_type": "code",
   "execution_count": null,
   "metadata": {
    "id": "MnFUPX4uYEfS"
   },
   "outputs": [],
   "source": [
    "    def most_worse(self): pass\n",
    "    def freeze(self): pass\n",
    "    def unfreaze(self): pass\n",
    "    def save(self): pass\n",
    "    def load(self): pass\n",
    "    def resume(self): pass\n",
    "    def evaluate(self): pass\n",
    "    def repuodicible(self): pass "
   ]
  },
  {
   "cell_type": "markdown",
   "metadata": {
    "id": "wdup3UlmXu89"
   },
   "source": [
    "## All in one: Trainer Class"
   ]
  },
  {
   "cell_type": "code",
   "execution_count": null,
   "metadata": {
    "id": "SZiLVHEBXVWr"
   },
   "outputs": [],
   "source": [
    "class Trainer:\n",
    "    def __init__(self, model, train_ds, valid_ds=None, train_bs=128, valid_bs=64, optimizer=None, loss=None, \n",
    "                 scheduler=None, scheduler_type='epoch', metrcis=[], workers=4, fp16=False, grad_clip_value='inf'):\n",
    "        \n",
    "        # without valid\n",
    "        self.model = model\n",
    "        self.optimizer = optimizer\n",
    "        self.scheduler = scheduler\n",
    "        self.scheduler_type = scheduler_type\n",
    "        self.loss = loss\n",
    "        self.metrcis = metrcis\n",
    "        self.grad_clip_value = grad_clip_value\n",
    "        self.fp16 = fp16\n",
    "        self.scaler = GradScaler(enabled=fp16)\n",
    "        self.workers = workers\n",
    "        self.stop_training = False # check\n",
    "        # prepare dls\n",
    "        self.train_bs = train_bs\n",
    "        self.valid_bs = valid_bs\n",
    "        self.train_ds = train_ds\n",
    "        self.valid_ds = valid_ds \n",
    "        self.train_dl = self.get_train_dataloder()\n",
    "        self.params = {'train_steps': len(self.train_dl)}\n",
    "        if valid_ds==None:\n",
    "            self.valid_dl = None\n",
    "        else:\n",
    "            self.valid_dl = self.get_valid_dataloder()\n",
    "            self.params['valid_steps'] = len(self.valid_dl)\n",
    "    \n",
    "\n",
    "        \n",
    "    # training \n",
    "    def fit(self, epochs=1, device='cuda', callbacks=[]):\n",
    "        if self.stop_training: return\n",
    "        self.params['epochs'] = epochs\n",
    "        self.change_device(device)\n",
    "        self.state = CallbackRunner(callbacks, trainer=self)\n",
    "        self.state.on_train_start\n",
    "        for epoch in range(1, epochs+1):\n",
    "            self.params['epoch'] = epoch\n",
    "            self.state.on_epoch_start\n",
    "            # train\n",
    "            self.state.on_train_epoch_start\n",
    "            self.train_epoch()\n",
    "            self.state.on_train_epoch_end\n",
    "            if self.scheduler != None and self.scheduler_type == 'epoch':\n",
    "                self.scheduler.step()\n",
    "            # valid\n",
    "            if self.valid_dl!=None:\n",
    "                self.state.on_valid_epoch_start\n",
    "                self.valid_epoch()\n",
    "                self.state.on_valid_epoch_end    \n",
    "              \n",
    "            self.state.on_epoch_end\n",
    "            if self.stop_training: \n",
    "                break\n",
    "        self.state.on_train_end\n",
    "        \n",
    "\n",
    "        \n",
    "    def train_epoch(self):\n",
    "      self.model.train()\n",
    "      for step, batch in enumerate(self.train_dl, 0):\n",
    "          self.params['step'] = step\n",
    "          self.optimizer.zero_grad()\n",
    "          batch = [item.to(self.device) for item in batch]\n",
    "          self.params['batch'] = batch\n",
    "          self.state.on_train_batch_start\n",
    "             \n",
    "          if self.device == 'cuda': # GPU + FP16\n",
    "              with autocast(enabled=self.fp16):\n",
    "                  loss, metrics = self.train_step(batch)\n",
    "              \n",
    "              self.scaler.scale(loss).backward()\n",
    "              clip_grad_norm_(self.model.parameters(), self.grad_clip_value)\n",
    "              self.scaler.step(self.optimizer)\n",
    "              if self.scheduler != None and self.scheduler_type == 'batch':\n",
    "                  self.scaler.step(self.scheduler)\n",
    "              self.scaler.update()\n",
    "\n",
    "          else: # CPU\n",
    "              loss, metrics = self.train_step(batch)\n",
    "              loss.backward()\n",
    "              clip_grad_norm_(self.model.parameters(), self.grad_clip_value)\n",
    "              self.optimizer.step()\n",
    "              if self.scheduler != None and self.scheduler_type == 'batch':\n",
    "                  self.scheduler.step()\n",
    "\n",
    "          # stats\n",
    "          self.params['loss'] = loss\n",
    "          self.params['metrics'] = metrics\n",
    "          self.state.on_train_batch_end\n",
    "          if self.stop_training: \n",
    "              break\n",
    "\n",
    "    \n",
    "    def valid_epoch(self):\n",
    "        self.model.eval()\n",
    "        with torch.no_grad():\n",
    "            for step, batch in enumerate(self.valid_dl, 0):\n",
    "              self.params['step'] = step\n",
    "              batch = [item.to(self.device) for item in batch]\n",
    "              self.params['batch'] = batch\n",
    "              self.state.on_valid_batch_start\n",
    "\n",
    "              if self.device == 'cuda': # GPU + FP16\n",
    "                  with autocast(enabled=self.fp16):\n",
    "                      self.params['loss'], self.params['metrics'] = self.valid_step(batch)\n",
    "              else:\n",
    "                self.params['loss'], self.params['metrics'] = self.valid_step(batch)\n",
    "              \n",
    "              self.state.on_valid_batch_end\n",
    "              if self.stop_training: \n",
    "                break\n",
    "        \n",
    "        \n",
    "\n",
    "    # -------------------------------------------------------------------------------- overrider\n",
    "    def train_step(self, batch):\n",
    "        x, y = batch\n",
    "        out = self.model(x)\n",
    "        loss = self.loss(out, y)\n",
    "        metrcis = self.compute_metrics(out, y)\n",
    "        return loss, metrcis\n",
    "\n",
    "    def valid_step(self, batch):\n",
    "        x, y = batch\n",
    "        out = self.model(x)\n",
    "        loss = self.loss(out, y)\n",
    "        metrcis = self.compute_metrics(out, y)\n",
    "        return loss, metrcis\n",
    "\n",
    "    def get_train_dataloder(self): \n",
    "        return torch.utils.data.DataLoader(self.train_ds, batch_size=self.train_bs, shuffle=True, num_workers=self.workers)      \n",
    "      \n",
    "    def get_valid_dataloder(self): \n",
    "        return torch.utils.data.DataLoader(self.valid_ds, batch_size=self.valid_bs, shuffle=False, num_workers=self.workers)\n",
    "\n",
    "\n",
    "    # -------------------------------------------------------------------------------- utils\n",
    "    def change_device(self, device='cuda'):\n",
    "        self.model.to(device)\n",
    "        self.loss.to(device)\n",
    "        self.device = device\n",
    "        self.optimizer.load_state_dict(self.optimizer.state_dict())\n",
    "\n",
    "\n",
    "    def compute_metrics(self, pred, y):\n",
    "        res = {}\n",
    "        for f in self.metrcis:\n",
    "            res[f.__name__] = f(pred, y).item()\n",
    "        return res\n",
    "    \n",
    "    \n",
    "    def summary(self):\n",
    "        summary(self.model.cpu(), input_size=(self.train_ds[0][0].shape), device='cpu')\n",
    "\n",
    "\n",
    "    def lr_finder(self, device='cuda', epochs=1, min_lr=1e-6, max_lr=1e1):\n",
    "        init_weights = deepcopy(model.state_dict())\n",
    "        # off valid epoch\n",
    "        valid_dl = self.valid_dl\n",
    "        self.valid_dl = None\n",
    "        self.fit(epochs=epochs, device=device, callbacks=[LRFinder(min_lr=min_lr, max_lr=max_lr)])\n",
    "        # reset training\n",
    "        self.model.load_state_dict(init_weights)\n",
    "        self.valid_dl = valid_dl\n",
    "        self.stop_training = False\n",
    "\n",
    "\n",
    "    def set_lr(self, lr):\n",
    "        self.optimizer.param_groups[0]['lr'] = lr"
   ]
  },
  {
   "cell_type": "markdown",
   "metadata": {
    "id": "_-lf4wWFodGp"
   },
   "source": [
    "- I hope you learned somthing and enjoed"
   ]
  }
 ],
 "metadata": {
  "colab": {
   "authorship_tag": "ABX9TyNkOdhDndCusjLwcHRYBqYT",
   "collapsed_sections": [],
   "name": "narm.ipynb",
   "provenance": [],
   "toc_visible": true
  },
  "kernelspec": {
   "display_name": "dl",
   "language": "python",
   "name": "dl"
  },
  "language_info": {
   "codemirror_mode": {
    "name": "ipython",
    "version": 3
   },
   "file_extension": ".py",
   "mimetype": "text/x-python",
   "name": "python",
   "nbconvert_exporter": "python",
   "pygments_lexer": "ipython3",
   "version": "3.8.5"
  }
 },
 "nbformat": 4,
 "nbformat_minor": 4
}
